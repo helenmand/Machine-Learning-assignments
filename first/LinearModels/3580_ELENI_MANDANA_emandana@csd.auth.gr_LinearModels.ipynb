{
  "cells": [
    {
      "cell_type": "markdown",
      "metadata": {
        "id": "aeF4qTmfveeb"
      },
      "source": [
        "## About iPython Notebooks ##\n",
        "\n",
        "iPython Notebooks are interactive coding environments embedded in a webpage. You will be using iPython notebooks in this class. Make sure you fill in any place that says `# BEGIN CODE HERE #END CODE HERE` (replacing the dots). After writing your code, you can run the cell by either pressing \"SHIFT\"+\"ENTER\" or by clicking on \"Run\" (denoted by a play symbol). Before you turn this assignment in, make sure everything runs as expected. First, **restart the kernel** (in the menubar, select Kernel>Restart) and then **run all cells** (in the menubar, select Cell>Run All). \n",
        "\n",
        " **What you need to remember:**\n",
        "\n",
        "- Run your cells using SHIFT+ENTER (or \"Run cell\")\n",
        "- Write code in the designated areas using Python 3 only\n",
        "- Do not modify the code outside of the designated areas\n",
        "- In some cases you will also need to explain the results. There will also be designated areas for that. \n",
        "\n",
        "Fill in your **NAME** and **AEM** below:"
      ]
    },
    {
      "cell_type": "code",
      "execution_count": null,
      "metadata": {
        "id": "ZCY3tJjnveei"
      },
      "outputs": [],
      "source": [
        "NAME = \"ELENI MANDANA\"\n",
        "AEM = \"3580\""
      ]
    },
    {
      "cell_type": "markdown",
      "metadata": {
        "id": "lpED3Vwlveek"
      },
      "source": [
        "---"
      ]
    },
    {
      "cell_type": "markdown",
      "metadata": {
        "deletable": false,
        "editable": false,
        "id": "0LK7HlL9r2k1",
        "nbgrader": {
          "cell_type": "markdown",
          "checksum": "ccc99a100da955945679879e451af2f7",
          "grade": false,
          "grade_id": "cell-62cb5c0bfe7b0be0",
          "locked": true,
          "schema_version": 3,
          "solution": false
        }
      },
      "source": [
        "# Assignment 1 - Linear Models #"
      ]
    },
    {
      "cell_type": "markdown",
      "metadata": {
        "deletable": false,
        "editable": false,
        "id": "Ww0lVWmTsBOF",
        "nbgrader": {
          "cell_type": "markdown",
          "checksum": "95ccc5bf6599c4fefd13589ec56ecf36",
          "grade": false,
          "grade_id": "cell-61376cfdc59ad4b7",
          "locked": true,
          "schema_version": 3,
          "solution": false
        }
      },
      "source": [
        "Welcome to your first assignment. This exercise gives you a brief introduction to Python and the fundamental libraries for machine learning. It also gives you a wide understanding on how linear models work.  "
      ]
    },
    {
      "cell_type": "markdown",
      "metadata": {
        "deletable": false,
        "editable": false,
        "id": "gK7GYZ6ouIGC",
        "nbgrader": {
          "cell_type": "markdown",
          "checksum": "4b163a472e31417e98fd907a65646e15",
          "grade": false,
          "grade_id": "cell-e2c88db06666ef54",
          "locked": true,
          "schema_version": 3,
          "solution": false
        }
      },
      "source": [
        "After this assignment you will:\n",
        "- Be able to use iPython Notebooks\n",
        "- Be able to use numpy and pandas functions\n",
        "- Be able to build your first linear model from scratch\n",
        "- Be able to use the basic functions of scikit-learn "
      ]
    },
    {
      "cell_type": "markdown",
      "metadata": {
        "deletable": false,
        "editable": false,
        "id": "lQix4mv62BT4",
        "nbgrader": {
          "cell_type": "markdown",
          "checksum": "562b7c489c155b2a7b8abe0d6412d099",
          "grade": false,
          "grade_id": "cell-e62e23002ad81abc",
          "locked": true,
          "schema_version": 3,
          "solution": false
        }
      },
      "source": [
        "**Exercise**: Set test to `\"Hello World\"` in the cell below to print \"Hello World\" and run the two cells below."
      ]
    },
    {
      "cell_type": "code",
      "execution_count": 1,
      "metadata": {
        "deletable": false,
        "id": "smvHiyLY15i6",
        "nbgrader": {
          "cell_type": "code",
          "checksum": "bc2ac46cb8d87335566db4fb6df6e16a",
          "grade": false,
          "grade_id": "cell-e3618902cab063ed",
          "locked": false,
          "schema_version": 3,
          "solution": true
        }
      },
      "outputs": [],
      "source": [
        "# BEGIN CODE HERE\n",
        "test = \"Hello World\"\n",
        "#END CODE HERE"
      ]
    },
    {
      "cell_type": "code",
      "execution_count": 2,
      "metadata": {
        "deletable": false,
        "editable": false,
        "id": "Y-_OySPk1_oh",
        "nbgrader": {
          "cell_type": "code",
          "checksum": "1ab6d88aef434b5543877c0b49174a77",
          "grade": true,
          "grade_id": "cell-0761ffa58244965c",
          "locked": true,
          "points": 0,
          "schema_version": 3,
          "solution": false
        }
      },
      "outputs": [
        {
          "name": "stdout",
          "output_type": "stream",
          "text": [
            "test: Hello World\n"
          ]
        }
      ],
      "source": [
        "print (\"test: \" + test)"
      ]
    },
    {
      "cell_type": "markdown",
      "metadata": {
        "deletable": false,
        "editable": false,
        "id": "Tn9L2Oq82PPC",
        "nbgrader": {
          "cell_type": "markdown",
          "checksum": "3b7ed43fbf47beb8715d1fa70bb33594",
          "grade": false,
          "grade_id": "cell-2523086cd6ee1f4b",
          "locked": true,
          "schema_version": 3,
          "solution": false
        }
      },
      "source": [
        "**Expected output**:\n",
        "\n",
        "test: Hello World"
      ]
    },
    {
      "cell_type": "markdown",
      "metadata": {
        "deletable": false,
        "editable": false,
        "id": "lzpRolujz4zs",
        "nbgrader": {
          "cell_type": "markdown",
          "checksum": "5e46c1d92818113136db5ec1fb85219d",
          "grade": false,
          "grade_id": "cell-36315b2ebbf1eecb",
          "locked": true,
          "schema_version": 3,
          "solution": false
        }
      },
      "source": [
        "## 1. Numpy & Pandas ##\n",
        "\n",
        "The [**NumPy**](https://numpy.org/) library is the core library for scientific computing in Python. It provides a high-performance multidimensional array object, and tools for working with these arrays. \n",
        "\n",
        "The [**Pandas**](https://pandas.pydata.org/) library is built on NumPy and provides easy-to-use data structures and data analysis tools for the Python programming language.\n",
        "\n",
        "Feel free to look at the documentation ([NumPy Doc](https://numpy.org/doc/1.18/user/quickstart.html) & [Pandas Doc](https://pandas.pydata.org/docs/)) of those libraries troughout this assignment. \n",
        "\n",
        "As a convention we always import the libraries as follows: "
      ]
    },
    {
      "cell_type": "code",
      "execution_count": 4,
      "metadata": {
        "id": "ydtbUhRK1Mwd"
      },
      "outputs": [],
      "source": [
        "# Run this cell\n",
        "import numpy as np\n",
        "import pandas as pd"
      ]
    },
    {
      "cell_type": "markdown",
      "metadata": {
        "deletable": false,
        "editable": false,
        "id": "R047IOKS0jbm",
        "nbgrader": {
          "cell_type": "markdown",
          "checksum": "304a9d8a950eeccee8131d7bb8096ca6",
          "grade": false,
          "grade_id": "cell-72e9db57f4d96a10",
          "locked": true,
          "schema_version": 3,
          "solution": false
        }
      },
      "source": [
        "### 1.1 The very basic of NumPy ###"
      ]
    },
    {
      "cell_type": "markdown",
      "metadata": {
        "deletable": false,
        "editable": false,
        "id": "dDa8wbkp3tcJ",
        "nbgrader": {
          "cell_type": "markdown",
          "checksum": "90c22b9e300426e6cb093bb63ea2efb0",
          "grade": false,
          "grade_id": "cell-3c71a9b8c65496dc",
          "locked": true,
          "schema_version": 3,
          "solution": false
        }
      },
      "source": [
        "**1.1.1 Exercise**: Create a 3-dimensional *NumPy* array (3x3) which contains the numbers 1-9 on variable 'a'.\n",
        "\n"
      ]
    },
    {
      "cell_type": "code",
      "execution_count": 20,
      "metadata": {
        "deletable": false,
        "id": "sRd0XYXap0KQ",
        "nbgrader": {
          "cell_type": "code",
          "checksum": "3e508824af6ad4bc1c3b85153190a6af",
          "grade": false,
          "grade_id": "cell-fbaa0138d806f312",
          "locked": false,
          "schema_version": 3,
          "solution": true
        }
      },
      "outputs": [],
      "source": [
        "# BEGIN CODE HERE\n",
        "a = np.array([[1, 2, 3], [4, 5, 6], [7, 8, 9]])\n",
        "#END CODE HERE"
      ]
    },
    {
      "cell_type": "code",
      "execution_count": 21,
      "metadata": {
        "deletable": false,
        "editable": false,
        "id": "CVI97RDG5NrY",
        "nbgrader": {
          "cell_type": "code",
          "checksum": "a713e39ed56c0da7b2fa6ed10bcd92fb",
          "grade": true,
          "grade_id": "cell-17d73239f39ff6cc",
          "locked": true,
          "points": 1,
          "schema_version": 3,
          "solution": false
        }
      },
      "outputs": [
        {
          "name": "stdout",
          "output_type": "stream",
          "text": [
            "[[1 2 3]\n",
            " [4 5 6]\n",
            " [7 8 9]]\n"
          ]
        }
      ],
      "source": [
        "print(a)"
      ]
    },
    {
      "cell_type": "markdown",
      "metadata": {
        "deletable": false,
        "editable": false,
        "id": "58zW8z295bSK",
        "nbgrader": {
          "cell_type": "markdown",
          "checksum": "fdd0160389167cff660e0485be6ca18f",
          "grade": false,
          "grade_id": "cell-0194f8098f7d5d17",
          "locked": true,
          "schema_version": 3,
          "solution": false
        }
      },
      "source": [
        "**Expected output:** \n",
        "\n",
        "\n",
        "```\n",
        "[[1 2 3]\n",
        " [4 5 6]\n",
        " [7 8 9]]\n",
        " ```"
      ]
    },
    {
      "cell_type": "markdown",
      "metadata": {
        "deletable": false,
        "editable": false,
        "id": "eEsIzDKU63UA",
        "nbgrader": {
          "cell_type": "markdown",
          "checksum": "c44c8b7d97443d43f4903ab0909a06c9",
          "grade": false,
          "grade_id": "cell-699269795ce87979",
          "locked": true,
          "schema_version": 3,
          "solution": false
        }
      },
      "source": [
        "**1.1.2 Exercise**: Assign the 2nd element of the 2nd row of variable **a** to variable **el**. Moreover, assign the first 2 elements of the 2nd column of array **a** to variable **col**. *Tip: Use slicing* "
      ]
    },
    {
      "cell_type": "code",
      "execution_count": 40,
      "metadata": {
        "deletable": false,
        "id": "Z99j4XAs5Xwu",
        "nbgrader": {
          "cell_type": "code",
          "checksum": "32959e6aea2b9c289567d8f459b6a214",
          "grade": false,
          "grade_id": "cell-8a8a1d5b54c1a5b2",
          "locked": false,
          "schema_version": 3,
          "solution": true
        }
      },
      "outputs": [],
      "source": [
        "# BEGIN CODE HERE\n",
        "el = a[1, 1]\n",
        "col = a[0:2, 1:2]\n",
        "#END CODE HERE"
      ]
    },
    {
      "cell_type": "code",
      "execution_count": 41,
      "metadata": {
        "deletable": false,
        "editable": false,
        "id": "J91SRxNt7kQR",
        "nbgrader": {
          "cell_type": "code",
          "checksum": "c64b56a85aad0db5de3b3d2e66c9ae7b",
          "grade": true,
          "grade_id": "cell-7a94780517e024bf",
          "locked": true,
          "points": 1,
          "schema_version": 3,
          "solution": false
        }
      },
      "outputs": [
        {
          "name": "stdout",
          "output_type": "stream",
          "text": [
            "el:5\n",
            "col:[[2]\n",
            " [5]]\n"
          ]
        }
      ],
      "source": [
        "print(\"el:\" + str(el))\n",
        "print(\"col:\" + str(col))"
      ]
    },
    {
      "cell_type": "markdown",
      "metadata": {
        "deletable": false,
        "editable": false,
        "id": "-VzK9qi38H1q",
        "nbgrader": {
          "cell_type": "markdown",
          "checksum": "cb71fbeeb49410b1b20e2e72155f8958",
          "grade": false,
          "grade_id": "cell-cdfee79e1561651a",
          "locked": true,
          "schema_version": 3,
          "solution": false
        }
      },
      "source": [
        "**Expected output:** \n",
        "<table>\n",
        "    <tr> \n",
        "        <td> el: </td> \n",
        "        <td> 5 </td>\n",
        "    </tr>\n",
        "    <tr>\n",
        "    <td> col: </td> \n",
        "    <td> [2,5] </td>\n",
        "    </tr>\n",
        "</table> "
      ]
    },
    {
      "cell_type": "markdown",
      "metadata": {
        "deletable": false,
        "editable": false,
        "id": "iik38C3V9IFK",
        "nbgrader": {
          "cell_type": "markdown",
          "checksum": "43f59c26f06c7a74420e74bdb6c6a0a5",
          "grade": false,
          "grade_id": "cell-1a3520a0d3f88ee6",
          "locked": true,
          "schema_version": 3,
          "solution": false
        }
      },
      "source": [
        "**1.1.3 Exercise**: Create a 3x4 array full of zeros, create an 2x3 array full of ones and 4x5 array full of random values (0 to 10) using the fucntions np.zeros, np.ones, and np.random.random accordingly. "
      ]
    },
    {
      "cell_type": "code",
      "execution_count": 57,
      "metadata": {
        "deletable": false,
        "id": "dcXkLapD7nce",
        "nbgrader": {
          "cell_type": "code",
          "checksum": "7cfe64178ada9a5ebff4bb28ffe3ee81",
          "grade": false,
          "grade_id": "cell-12a2471cada03991",
          "locked": false,
          "schema_version": 3,
          "solution": true
        }
      },
      "outputs": [],
      "source": [
        "np.random.seed(42)\n",
        "# BEGIN CODE HERE\n",
        "zero_array =  np.zeros([3,4])\n",
        "one_array = np.ones([2, 3])\n",
        "random_array = np.random.rand(4, 5)\n",
        "#END CODE HERE"
      ]
    },
    {
      "cell_type": "code",
      "execution_count": 58,
      "metadata": {
        "deletable": false,
        "editable": false,
        "id": "JIU2YWX18E5b",
        "nbgrader": {
          "cell_type": "code",
          "checksum": "ff7492f8bd8643cc3dff1e828e965ca5",
          "grade": true,
          "grade_id": "cell-2fa3e8e2357fcf87",
          "locked": true,
          "points": 1,
          "schema_version": 3,
          "solution": false
        }
      },
      "outputs": [
        {
          "name": "stdout",
          "output_type": "stream",
          "text": [
            "zero_array: [[0. 0. 0. 0.]\n",
            " [0. 0. 0. 0.]\n",
            " [0. 0. 0. 0.]]\n",
            "one_array: [[1. 1. 1.]\n",
            " [1. 1. 1.]]\n",
            "random_array: [[0.37454012 0.95071431 0.73199394 0.59865848 0.15601864]\n",
            " [0.15599452 0.05808361 0.86617615 0.60111501 0.70807258]\n",
            " [0.02058449 0.96990985 0.83244264 0.21233911 0.18182497]\n",
            " [0.18340451 0.30424224 0.52475643 0.43194502 0.29122914]]\n"
          ]
        }
      ],
      "source": [
        "print(\"zero_array:\", zero_array)\n",
        "print(\"one_array:\", one_array)\n",
        "print(\"random_array:\", random_array)\n"
      ]
    },
    {
      "cell_type": "markdown",
      "metadata": {
        "id": "tHxxqefExwKA"
      },
      "source": [
        "**Expected output:**\n",
        "\n",
        "```\n",
        "zero_array: [[0. 0. 0. 0.]\n",
        " [0. 0. 0. 0.]\n",
        " [0. 0. 0. 0.]]\n",
        "\n",
        "one_array: [[1. 1. 1.]\n",
        " [1. 1. 1.]]\n",
        "\n",
        "random_array: [[0.37454012 0.95071431 0.73199394 0.59865848 0.15601864]\n",
        " [0.15599452 0.05808361 0.86617615 0.60111501 0.70807258]\n",
        " [0.02058449 0.96990985 0.83244264 0.21233911 0.18182497]\n",
        " [0.18340451 0.30424224 0.52475643 0.43194502 0.29122914]]\n",
        "```"
      ]
    },
    {
      "cell_type": "markdown",
      "metadata": {
        "deletable": false,
        "editable": false,
        "id": "tySai5aIFVJC",
        "nbgrader": {
          "cell_type": "markdown",
          "checksum": "a6a9d4bbfed398d52187df7fcf1909b6",
          "grade": false,
          "grade_id": "cell-b207f4139851372d",
          "locked": true,
          "schema_version": 3,
          "solution": false
        }
      },
      "source": [
        "Two common numpy functions used are [np.shape](https://docs.scipy.org/doc/numpy/reference/generated/numpy.ndarray.shape.html) and [np.reshape()](https://docs.scipy.org/doc/numpy/reference/generated/numpy.reshape.html). \n",
        "- X.shape is used to get the shape (dimension) of a matrix/vector X. \n",
        "- X.reshape(...) is used to reshape X into some other dimension. "
      ]
    },
    {
      "cell_type": "markdown",
      "metadata": {
        "id": "BlzbLWeEyvo7"
      },
      "source": [
        "**1.1.4 Exercise**: Use the function **shape** to print the shape of variable **random_array** and the function **reshape** to change the dimensions of **one_array** from 2x3 to 1x6."
      ]
    },
    {
      "cell_type": "code",
      "execution_count": 59,
      "metadata": {
        "id": "5QJUgXPIzN6Z"
      },
      "outputs": [],
      "source": [
        "np.random.seed(42)\n",
        "# BEGIN CODE HERE\n",
        "shape_random_array = random_array.shape\n",
        "reshaped_one_array = one_array.reshape(1,6)\n",
        "#END CODE HERE"
      ]
    },
    {
      "cell_type": "code",
      "execution_count": 60,
      "metadata": {
        "id": "rGrHh-YdzQBb"
      },
      "outputs": [
        {
          "name": "stdout",
          "output_type": "stream",
          "text": [
            "shape_random_array: (4, 5)\n",
            "reshaped_one_array: [[1. 1. 1. 1. 1. 1.]]\n"
          ]
        }
      ],
      "source": [
        "print(\"shape_random_array:\", shape_random_array)\n",
        "print(\"reshaped_one_array:\", reshaped_one_array)"
      ]
    },
    {
      "cell_type": "markdown",
      "metadata": {
        "id": "75XEG3KHzpGh"
      },
      "source": [
        "**Expected output:**\n",
        "\n",
        "```\n",
        "shape_random_array: (4, 5)\n",
        "reshaped_one_array: [[1. 1. 1. 1. 1. 1.]]\n",
        "```"
      ]
    },
    {
      "cell_type": "markdown",
      "metadata": {
        "deletable": false,
        "editable": false,
        "id": "vZhJzYRGF9zG",
        "nbgrader": {
          "cell_type": "markdown",
          "checksum": "47d2e59150fee69d309b6cf52359ea99",
          "grade": false,
          "grade_id": "cell-af88a87eac6bd364",
          "locked": true,
          "schema_version": 3,
          "solution": false
        }
      },
      "source": [
        "**1.1.5 Exercise**: Implement the function **custom_reshape** that takes as input an array of shape (length, height, depth) and returns a vector of shape (length\\*height\\*depth, 1). \n",
        "\n",
        "(Tips: you can use .shape to find length, height, depth)"
      ]
    },
    {
      "cell_type": "code",
      "execution_count": 84,
      "metadata": {
        "deletable": false,
        "id": "pkZYNHUd-lHI",
        "nbgrader": {
          "cell_type": "code",
          "checksum": "1407cc96ca0642fe73c47336bb221a66",
          "grade": false,
          "grade_id": "cell-5ba0e15615d720a6",
          "locked": false,
          "schema_version": 3,
          "solution": true
        }
      },
      "outputs": [],
      "source": [
        "def custom_reshape(my_array):\n",
        "    \"\"\"\n",
        "    Argument:\n",
        "    my_array -- a numpy array of shape (length, height, depth)\n",
        "    \n",
        "    Returns:\n",
        "    v -- a vector of shape (length*height*depth, 1)\n",
        "    \"\"\"\n",
        "    # BEGIN CODE HERE\n",
        "    v = ...\n",
        "    #END CODE HERE\n",
        "    return v"
      ]
    },
    {
      "cell_type": "code",
      "execution_count": 86,
      "metadata": {
        "deletable": false,
        "editable": false,
        "id": "GXm1d3xpG8tC",
        "nbgrader": {
          "cell_type": "code",
          "checksum": "5d249705ca464fc7f97a3abacc9ce833",
          "grade": true,
          "grade_id": "cell-270444659016ab2f",
          "locked": true,
          "points": 1,
          "schema_version": 3,
          "solution": false
        }
      },
      "outputs": [
        {
          "name": "stdout",
          "output_type": "stream",
          "text": [
            "(3, 2, 2)\n",
            "custon_reshape(my_array) = [10  1]\n"
          ]
        }
      ],
      "source": [
        "# This is a 3 by 2 by 2 array.\n",
        "my_array = np.array([[[ 0.67826139,  0.29380381],\n",
        "                      [ 0.4215251 ,  0.45017551]],\n",
        "\n",
        "                      [[ 0.92814219,  0.96677647],\n",
        "                        [ 0.19981397,  0.27417313]],\n",
        "\n",
        "                      [[ 0.60659855,  0.00533165],\n",
        "                        [ 0.34144279,  0.94630077]]])\n",
        "                        \n",
        "print (\"custon_reshape(my_array) = \" + str(custom_reshape(my_array)))\n"
      ]
    },
    {
      "cell_type": "markdown",
      "metadata": {
        "deletable": false,
        "editable": false,
        "id": "fEzC25g3HSl_",
        "nbgrader": {
          "cell_type": "markdown",
          "checksum": "9aeb5071814954d38141ef7221a5d9d6",
          "grade": false,
          "grade_id": "cell-db1ff76b8d993506",
          "locked": true,
          "schema_version": 3,
          "solution": false
        }
      },
      "source": [
        "**Expected Output**: \n",
        "\n",
        "\n",
        "\n",
        "```\n",
        "custon_reshape(my_array) = [[0.67826139]\n",
        " [0.29380381]\n",
        " [0.4215251 ]\n",
        " [0.45017551]\n",
        " [0.92814219]\n",
        " [0.96677647]\n",
        " [0.19981397]\n",
        " [0.27417313]\n",
        " [0.60659855]\n",
        " [0.00533165]\n",
        " [0.34144279]\n",
        " [0.94630077]]\n",
        "```"
      ]
    },
    {
      "cell_type": "markdown",
      "metadata": {
        "deletable": false,
        "editable": false,
        "id": "o3DYNNXZIbYd",
        "nbgrader": {
          "cell_type": "markdown",
          "checksum": "69a8da5cff899b8dd1fa6b5e8e931a14",
          "grade": false,
          "grade_id": "cell-cea361d2c51faef2",
          "locked": true,
          "schema_version": 3,
          "solution": false
        }
      },
      "source": [
        "**1.1.6 Exercise**: Create an array of 9 evenly spaced values from 0 to 3 using the np.linspace() function"
      ]
    },
    {
      "cell_type": "code",
      "execution_count": 87,
      "metadata": {
        "deletable": false,
        "id": "YLm1wTnwHHaP",
        "nbgrader": {
          "cell_type": "code",
          "checksum": "5f5e403f465cd031fb594c881134caad",
          "grade": false,
          "grade_id": "cell-8b54354fe40e9e69",
          "locked": false,
          "schema_version": 3,
          "solution": true
        }
      },
      "outputs": [],
      "source": [
        "# BEGIN CODE HERE\n",
        "x = np.linspace(0, 3, 9)\n",
        "#END CODE HERE"
      ]
    },
    {
      "cell_type": "code",
      "execution_count": 88,
      "metadata": {
        "deletable": false,
        "editable": false,
        "id": "rz_J06kzKqsa",
        "nbgrader": {
          "cell_type": "code",
          "checksum": "f5cad77ff7c81287529ca2ca7f48dd67",
          "grade": true,
          "grade_id": "cell-c7fa43b349200975",
          "locked": true,
          "points": 1,
          "schema_version": 3,
          "solution": false
        }
      },
      "outputs": [
        {
          "name": "stdout",
          "output_type": "stream",
          "text": [
            "x: [0.    0.375 0.75  1.125 1.5   1.875 2.25  2.625 3.   ]\n"
          ]
        }
      ],
      "source": [
        "print (\"x: \" + str(x))"
      ]
    },
    {
      "cell_type": "markdown",
      "metadata": {
        "id": "tmIfxCjV1RnF"
      },
      "source": [
        "**Expected outcome:**\n",
        "\n",
        "```\n",
        "x: [0.    0.375 0.75  1.125 1.5   1.875 2.25  2.625 3.   ]\n",
        "```\n"
      ]
    },
    {
      "cell_type": "markdown",
      "metadata": {
        "deletable": false,
        "editable": false,
        "id": "P-wd0gUgO_ud",
        "nbgrader": {
          "cell_type": "markdown",
          "checksum": "d49a30f348a6f5065f4092d266e36190",
          "grade": false,
          "grade_id": "cell-ea2656904d795b46",
          "locked": true,
          "schema_version": 3,
          "solution": false
        }
      },
      "source": [
        "**1.1.7 Exercise**: Draw 5 random samples from a multivariate normal distribution using the [np.random.multivariate_normal](https://docs.scipy.org/doc/numpy-1.14.0/reference/generated/numpy.random.multivariate_normal.html#numpy.random.multivariate_normal). (Tip: Use the parameters given as arguments. Check documentation for the correct order of arguments)"
      ]
    },
    {
      "cell_type": "code",
      "execution_count": 89,
      "metadata": {
        "deletable": false,
        "id": "JrbNyLGIKxlg",
        "nbgrader": {
          "cell_type": "code",
          "checksum": "ef6bc67133b9fcea36942434d55c3dc9",
          "grade": false,
          "grade_id": "cell-2a9c3ba6c99bd3e8",
          "locked": false,
          "schema_version": 3,
          "solution": true
        }
      },
      "outputs": [],
      "source": [
        "np.random.seed(42)\n",
        "num_observations = 5\n",
        "mean = [0, 0]\n",
        "cov = [[1, 0], [0, 100]]\n",
        "\n",
        "# BEGIN CODE HERE\n",
        "multi = np.random.multivariate_normal(mean, cov, 5)\n",
        "#END CODE HERE"
      ]
    },
    {
      "cell_type": "code",
      "execution_count": 90,
      "metadata": {
        "deletable": false,
        "editable": false,
        "id": "HpfTZJydGWYy",
        "nbgrader": {
          "cell_type": "code",
          "checksum": "2c210de64e5d920cbc63f27d15b3531f",
          "grade": true,
          "grade_id": "cell-619e6322c1ac5741",
          "locked": true,
          "points": 1,
          "schema_version": 3,
          "solution": false
        }
      },
      "outputs": [
        {
          "name": "stdout",
          "output_type": "stream",
          "text": [
            "x: [[-0.1382643   4.96714153]\n",
            " [ 1.52302986  6.47688538]\n",
            " [-0.23413696 -2.34153375]\n",
            " [ 0.76743473 15.79212816]\n",
            " [ 0.54256004 -4.69474386]]\n"
          ]
        }
      ],
      "source": [
        "print (\"x: \" + str(multi))"
      ]
    },
    {
      "cell_type": "markdown",
      "metadata": {
        "id": "97DUZ6iB15A4"
      },
      "source": [
        "**Expected outcome:**\n",
        "\n",
        "```\n",
        "x: [[-0.1382643   4.96714153]\n",
        " [ 1.52302986  6.47688538]\n",
        " [-0.23413696 -2.34153375]\n",
        " [ 0.76743473 15.79212816]\n",
        " [ 0.54256004 -4.69474386]]\n",
        "```\n",
        "\n"
      ]
    },
    {
      "cell_type": "markdown",
      "metadata": {
        "deletable": false,
        "editable": false,
        "id": "QUoFxsrhHcTC",
        "nbgrader": {
          "cell_type": "markdown",
          "checksum": "7edb1f59507663051751bfaab105ad15",
          "grade": false,
          "grade_id": "cell-6eaf28f729f9e542",
          "locked": true,
          "schema_version": 3,
          "solution": false
        }
      },
      "source": [
        "**1.1.8 Exercise**: Change the **...** so the scatter plot shows the values of the *multi* variable"
      ]
    },
    {
      "cell_type": "code",
      "execution_count": 96,
      "metadata": {
        "deletable": false,
        "id": "0IOzhD78QTwe",
        "nbgrader": {
          "cell_type": "code",
          "checksum": "d47a0379d7a2b7094d1870534258a12b",
          "grade": true,
          "grade_id": "cell-c3451c6fcbd04065",
          "locked": false,
          "points": 1,
          "schema_version": 3,
          "solution": true
        }
      },
      "outputs": [
        {
          "data": {
            "text/plain": [
              "<matplotlib.collections.PathCollection at 0x21996679f40>"
            ]
          },
          "execution_count": 96,
          "metadata": {},
          "output_type": "execute_result"
        },
        {
          "data": {
            "image/png": "[encoded data removed]",
            "text/plain": [
              "<Figure size 360x360 with 1 Axes>"
            ]
          },
          "metadata": {
            "needs_background": "light"
          },
          "output_type": "display_data"
        }
      ],
      "source": [
        "# Run this block to see a visual represntation of your samples.\n",
        "import matplotlib.pyplot as plt\n",
        "plt.figure(figsize=(5,5))\n",
        "# BEGIN CODE HERE\n",
        "plt.scatter(multi[0:num_observations, 0:2], \n",
        "            multi[0:num_observations, 0:2],\n",
        "            c = 'r', alpha = .4)\n",
        "#END CODE HERE"
      ]
    },
    {
      "cell_type": "markdown",
      "metadata": {
        "id": "JRhZvHsYvFjV"
      },
      "source": [
        "**1.1.9 Exercise**: Create a dictionary (hashmap) containing two keys: *data*, *shape* and assign them the variables **multi**, and the shape of variable **multi**, respectively. Then, you should retrieve the values of both keys and assign the first row of the value of *data* key to the variable **first_row_of_multi**, and assign the value of *shape* key to the variable **shape_of_multi**."
      ]
    },
    {
      "cell_type": "code",
      "execution_count": 99,
      "metadata": {
        "id": "KEjffLTyv0IO"
      },
      "outputs": [],
      "source": [
        "# BEGIN CODE HERE\n",
        "hashmap = dict({\"data\" : multi, \n",
        "                 \"shape\" : multi.shape})\n",
        "first_row_of_multi = multi[0] \n",
        "shape_of_multi = multi.shape\n",
        "#END CODE HERE\n",
        "assert (isinstance(hashmap, dict))"
      ]
    },
    {
      "cell_type": "code",
      "execution_count": 100,
      "metadata": {
        "id": "ohCOKmzzwtv2"
      },
      "outputs": [
        {
          "name": "stdout",
          "output_type": "stream",
          "text": [
            "First row of variable multi: [-0.1382643   4.96714153]\n",
            "Shape of variable multi:     (5, 2)\n"
          ]
        }
      ],
      "source": [
        "print('First row of variable multi:', first_row_of_multi)\n",
        "print('Shape of variable multi:    ', shape_of_multi)"
      ]
    },
    {
      "cell_type": "markdown",
      "metadata": {
        "id": "t1dGspykyLUD"
      },
      "source": [
        "**Expected output:**\n",
        "\n",
        "```\n",
        "First row of variable multi: [-0.1382643   4.96714153]\n",
        "Shape of variable multi:     (5, 2)\n",
        "```"
      ]
    },
    {
      "cell_type": "markdown",
      "metadata": {
        "deletable": false,
        "editable": false,
        "id": "V--bLaLSRE2y",
        "nbgrader": {
          "cell_type": "markdown",
          "checksum": "ad41b2945662342c1395087603adfc47",
          "grade": false,
          "grade_id": "cell-7c380b97c5fc06a2",
          "locked": true,
          "schema_version": 3,
          "solution": false
        }
      },
      "source": [
        "### 1.2 The very basics of Pandas ###"
      ]
    },
    {
      "cell_type": "markdown",
      "metadata": {
        "deletable": false,
        "editable": false,
        "id": "xIHQMFo_RisD",
        "nbgrader": {
          "cell_type": "markdown",
          "checksum": "331ae06f92bb962955a2dda47cf6d015",
          "grade": false,
          "grade_id": "cell-b5ae015fc71a9d22",
          "locked": true,
          "schema_version": 3,
          "solution": false
        }
      },
      "source": [
        "- Read & Write CSV\n",
        "- iloc, loc, and slices\n",
        "- Merge & concatenate"
      ]
    },
    {
      "cell_type": "markdown",
      "metadata": {
        "deletable": false,
        "editable": false,
        "id": "_41lZvsfCqAp",
        "nbgrader": {
          "cell_type": "markdown",
          "checksum": "a4356220fa477bd021de8d2235e3eeb4",
          "grade": false,
          "grade_id": "cell-35f23625c6db91ad",
          "locked": true,
          "schema_version": 3,
          "solution": false
        }
      },
      "source": [
        "**1.2.1 Exercise:** Read the file input1.csv into a dataframe using the pandas read_csv() function. Set the 1st row as the names of the columns (Tip: use the *header* argument)\n",
        "\n"
      ]
    },
    {
      "cell_type": "code",
      "execution_count": 115,
      "metadata": {
        "deletable": false,
        "id": "6-pHq6FcEw8_",
        "nbgrader": {
          "cell_type": "code",
          "checksum": "1c728559431b695e78382485700a2b48",
          "grade": true,
          "grade_id": "cell-7393b2df6214689f",
          "locked": false,
          "points": 1,
          "schema_version": 3,
          "solution": true
        }
      },
      "outputs": [],
      "source": [
        "# BEGIN CODE HERE\n",
        "df1 = pd.read_csv(\"input1.csv\", header=0)\n",
        "#END CODE HERE"
      ]
    },
    {
      "cell_type": "code",
      "execution_count": 116,
      "metadata": {
        "deletable": false,
        "editable": false,
        "id": "CP-TMTEJGJFy",
        "nbgrader": {
          "cell_type": "code",
          "checksum": "ee9c56b977370278eb59c7e3f5dcc734",
          "grade": false,
          "grade_id": "cell-874ff1d909b5aa3c",
          "locked": true,
          "schema_version": 3,
          "solution": false
        }
      },
      "outputs": [
        {
          "data": {
            "text/html": [
              "<div>\n",
              "<style scoped>\n",
              "    .dataframe tbody tr th:only-of-type {\n",
              "        vertical-align: middle;\n",
              "    }\n",
              "\n",
              "    .dataframe tbody tr th {\n",
              "        vertical-align: top;\n",
              "    }\n",
              "\n",
              "    .dataframe thead th {\n",
              "        text-align: right;\n",
              "    }\n",
              "</style>\n",
              "<table border=\"1\" class=\"dataframe\">\n",
              "  <thead>\n",
              "    <tr style=\"text-align: right;\">\n",
              "      <th></th>\n",
              "      <th>age</th>\n",
              "      <th>sex</th>\n",
              "      <th>cp</th>\n",
              "      <th>trestbps</th>\n",
              "      <th>chol</th>\n",
              "      <th>fbs</th>\n",
              "      <th>restecg</th>\n",
              "      <th>thalach</th>\n",
              "      <th>exang</th>\n",
              "      <th>oldpeak</th>\n",
              "      <th>slope</th>\n",
              "      <th>ca</th>\n",
              "      <th>thal</th>\n",
              "      <th>target</th>\n",
              "    </tr>\n",
              "  </thead>\n",
              "  <tbody>\n",
              "    <tr>\n",
              "      <th>0</th>\n",
              "      <td>63</td>\n",
              "      <td>1</td>\n",
              "      <td>3</td>\n",
              "      <td>145</td>\n",
              "      <td>233</td>\n",
              "      <td>1</td>\n",
              "      <td>0</td>\n",
              "      <td>150</td>\n",
              "      <td>0</td>\n",
              "      <td>2.3</td>\n",
              "      <td>0</td>\n",
              "      <td>0</td>\n",
              "      <td>1</td>\n",
              "      <td>1</td>\n",
              "    </tr>\n",
              "    <tr>\n",
              "      <th>1</th>\n",
              "      <td>37</td>\n",
              "      <td>1</td>\n",
              "      <td>2</td>\n",
              "      <td>130</td>\n",
              "      <td>250</td>\n",
              "      <td>0</td>\n",
              "      <td>1</td>\n",
              "      <td>187</td>\n",
              "      <td>0</td>\n",
              "      <td>3.5</td>\n",
              "      <td>0</td>\n",
              "      <td>0</td>\n",
              "      <td>2</td>\n",
              "      <td>1</td>\n",
              "    </tr>\n",
              "    <tr>\n",
              "      <th>2</th>\n",
              "      <td>41</td>\n",
              "      <td>0</td>\n",
              "      <td>1</td>\n",
              "      <td>130</td>\n",
              "      <td>204</td>\n",
              "      <td>0</td>\n",
              "      <td>0</td>\n",
              "      <td>172</td>\n",
              "      <td>0</td>\n",
              "      <td>1.4</td>\n",
              "      <td>2</td>\n",
              "      <td>0</td>\n",
              "      <td>2</td>\n",
              "      <td>1</td>\n",
              "    </tr>\n",
              "    <tr>\n",
              "      <th>3</th>\n",
              "      <td>56</td>\n",
              "      <td>1</td>\n",
              "      <td>1</td>\n",
              "      <td>120</td>\n",
              "      <td>236</td>\n",
              "      <td>0</td>\n",
              "      <td>1</td>\n",
              "      <td>178</td>\n",
              "      <td>0</td>\n",
              "      <td>0.8</td>\n",
              "      <td>2</td>\n",
              "      <td>0</td>\n",
              "      <td>2</td>\n",
              "      <td>1</td>\n",
              "    </tr>\n",
              "    <tr>\n",
              "      <th>4</th>\n",
              "      <td>57</td>\n",
              "      <td>0</td>\n",
              "      <td>0</td>\n",
              "      <td>120</td>\n",
              "      <td>354</td>\n",
              "      <td>0</td>\n",
              "      <td>1</td>\n",
              "      <td>163</td>\n",
              "      <td>1</td>\n",
              "      <td>0.6</td>\n",
              "      <td>2</td>\n",
              "      <td>0</td>\n",
              "      <td>2</td>\n",
              "      <td>1</td>\n",
              "    </tr>\n",
              "  </tbody>\n",
              "</table>\n",
              "</div>"
            ],
            "text/plain": [
              "   age  sex  cp  trestbps  chol  fbs  restecg  thalach  exang  oldpeak  slope  \\\n",
              "0   63    1   3       145   233    1        0      150      0      2.3      0   \n",
              "1   37    1   2       130   250    0        1      187      0      3.5      0   \n",
              "2   41    0   1       130   204    0        0      172      0      1.4      2   \n",
              "3   56    1   1       120   236    0        1      178      0      0.8      2   \n",
              "4   57    0   0       120   354    0        1      163      1      0.6      2   \n",
              "\n",
              "   ca  thal  target  \n",
              "0   0     1       1  \n",
              "1   0     2       1  \n",
              "2   0     2       1  \n",
              "3   0     2       1  \n",
              "4   0     2       1  "
            ]
          },
          "execution_count": 116,
          "metadata": {},
          "output_type": "execute_result"
        }
      ],
      "source": [
        "df1.head()"
      ]
    },
    {
      "cell_type": "markdown",
      "metadata": {
        "deletable": false,
        "editable": false,
        "id": "9XWwZLTRIarc",
        "nbgrader": {
          "cell_type": "markdown",
          "checksum": "336a187189c7f479e4f944734749377a",
          "grade": false,
          "grade_id": "cell-c4918726834a571d",
          "locked": true,
          "schema_version": 3,
          "solution": false
        }
      },
      "source": [
        "**1.2.2 Exercise:** Find the mean value of the *chol* variable.\n"
      ]
    },
    {
      "cell_type": "code",
      "execution_count": 117,
      "metadata": {
        "deletable": false,
        "id": "wG2O0oTZIrFR",
        "nbgrader": {
          "cell_type": "code",
          "checksum": "9bf12680f5840793cf5aaadd6f908a4a",
          "grade": false,
          "grade_id": "cell-c9ffcf3a751e1f97",
          "locked": false,
          "schema_version": 3,
          "solution": true
        }
      },
      "outputs": [],
      "source": [
        "# BEGIN CODE HERE\n",
        "mean_chol = df1['chol'].mean()\n",
        "#END CODE HERE"
      ]
    },
    {
      "cell_type": "code",
      "execution_count": 118,
      "metadata": {
        "deletable": false,
        "editable": false,
        "id": "Oc3WyE2PI0z-",
        "nbgrader": {
          "cell_type": "code",
          "checksum": "c8e6143286a86f156fa4dffc466a4e24",
          "grade": true,
          "grade_id": "cell-898f605e5d549af1",
          "locked": true,
          "points": 1,
          "schema_version": 3,
          "solution": false
        }
      },
      "outputs": [
        {
          "name": "stdout",
          "output_type": "stream",
          "text": [
            "Average: 248.13\n"
          ]
        }
      ],
      "source": [
        "print(\"Average: \" + str(mean_chol) )"
      ]
    },
    {
      "cell_type": "markdown",
      "metadata": {
        "id": "gcUwmk9x4Muf"
      },
      "source": [
        "**Expected outcome:**\n",
        "\n",
        "```\n",
        "Average: 248.13\n",
        "```\n",
        "\n"
      ]
    },
    {
      "cell_type": "markdown",
      "metadata": {
        "deletable": false,
        "editable": false,
        "id": "GhvZ-oYSK3gg",
        "nbgrader": {
          "cell_type": "markdown",
          "checksum": "ed351122807f3b8a05fd80279e60c05b",
          "grade": false,
          "grade_id": "cell-f1a84ce76c579715",
          "locked": true,
          "schema_version": 3,
          "solution": false
        }
      },
      "source": [
        "**1.2.3 Exercise:** Read the file input2.csv into a dataframe using the pandas read_csv() function and concatenate it with df1 using pd.concat(). (Note: input2.csv has no **header**! Note 2: You should use the columns of **df1** in **df2**)\n"
      ]
    },
    {
      "cell_type": "code",
      "execution_count": 119,
      "metadata": {
        "deletable": false,
        "id": "JH4eXERVLCei",
        "nbgrader": {
          "cell_type": "code",
          "checksum": "ad9691aceaad0d451ed6c8de2719e469",
          "grade": true,
          "grade_id": "cell-2557b9275a04ae8b",
          "locked": false,
          "points": 1,
          "schema_version": 3,
          "solution": true
        }
      },
      "outputs": [],
      "source": [
        "# BEGIN CODE HERE\n",
        "df2 = pd.read_csv(\"input2.csv\")\n",
        "df2.columns = df1.columns\n",
        "df = pd.concat([df1, df2])\n",
        "#END CODE HERE"
      ]
    },
    {
      "cell_type": "code",
      "execution_count": 120,
      "metadata": {
        "deletable": false,
        "editable": false,
        "id": "9AtvDaijLUdM",
        "nbgrader": {
          "cell_type": "code",
          "checksum": "aa94d9091fc7a03edae6c525c697a015",
          "grade": false,
          "grade_id": "cell-559a3277fa81ffdc",
          "locked": true,
          "schema_version": 3,
          "solution": false
        }
      },
      "outputs": [
        {
          "data": {
            "text/html": [
              "<div>\n",
              "<style scoped>\n",
              "    .dataframe tbody tr th:only-of-type {\n",
              "        vertical-align: middle;\n",
              "    }\n",
              "\n",
              "    .dataframe tbody tr th {\n",
              "        vertical-align: top;\n",
              "    }\n",
              "\n",
              "    .dataframe thead th {\n",
              "        text-align: right;\n",
              "    }\n",
              "</style>\n",
              "<table border=\"1\" class=\"dataframe\">\n",
              "  <thead>\n",
              "    <tr style=\"text-align: right;\">\n",
              "      <th></th>\n",
              "      <th>age</th>\n",
              "      <th>sex</th>\n",
              "      <th>cp</th>\n",
              "      <th>trestbps</th>\n",
              "      <th>chol</th>\n",
              "      <th>fbs</th>\n",
              "      <th>restecg</th>\n",
              "      <th>thalach</th>\n",
              "      <th>exang</th>\n",
              "      <th>oldpeak</th>\n",
              "      <th>slope</th>\n",
              "      <th>ca</th>\n",
              "      <th>thal</th>\n",
              "      <th>target</th>\n",
              "    </tr>\n",
              "  </thead>\n",
              "  <tbody>\n",
              "    <tr>\n",
              "      <th>0</th>\n",
              "      <td>63</td>\n",
              "      <td>1</td>\n",
              "      <td>3</td>\n",
              "      <td>145</td>\n",
              "      <td>233</td>\n",
              "      <td>1</td>\n",
              "      <td>0</td>\n",
              "      <td>150</td>\n",
              "      <td>0</td>\n",
              "      <td>2.3</td>\n",
              "      <td>0</td>\n",
              "      <td>0</td>\n",
              "      <td>1</td>\n",
              "      <td>1</td>\n",
              "    </tr>\n",
              "    <tr>\n",
              "      <th>1</th>\n",
              "      <td>37</td>\n",
              "      <td>1</td>\n",
              "      <td>2</td>\n",
              "      <td>130</td>\n",
              "      <td>250</td>\n",
              "      <td>0</td>\n",
              "      <td>1</td>\n",
              "      <td>187</td>\n",
              "      <td>0</td>\n",
              "      <td>3.5</td>\n",
              "      <td>0</td>\n",
              "      <td>0</td>\n",
              "      <td>2</td>\n",
              "      <td>1</td>\n",
              "    </tr>\n",
              "    <tr>\n",
              "      <th>2</th>\n",
              "      <td>41</td>\n",
              "      <td>0</td>\n",
              "      <td>1</td>\n",
              "      <td>130</td>\n",
              "      <td>204</td>\n",
              "      <td>0</td>\n",
              "      <td>0</td>\n",
              "      <td>172</td>\n",
              "      <td>0</td>\n",
              "      <td>1.4</td>\n",
              "      <td>2</td>\n",
              "      <td>0</td>\n",
              "      <td>2</td>\n",
              "      <td>1</td>\n",
              "    </tr>\n",
              "    <tr>\n",
              "      <th>3</th>\n",
              "      <td>56</td>\n",
              "      <td>1</td>\n",
              "      <td>1</td>\n",
              "      <td>120</td>\n",
              "      <td>236</td>\n",
              "      <td>0</td>\n",
              "      <td>1</td>\n",
              "      <td>178</td>\n",
              "      <td>0</td>\n",
              "      <td>0.8</td>\n",
              "      <td>2</td>\n",
              "      <td>0</td>\n",
              "      <td>2</td>\n",
              "      <td>1</td>\n",
              "    </tr>\n",
              "    <tr>\n",
              "      <th>4</th>\n",
              "      <td>57</td>\n",
              "      <td>0</td>\n",
              "      <td>0</td>\n",
              "      <td>120</td>\n",
              "      <td>354</td>\n",
              "      <td>0</td>\n",
              "      <td>1</td>\n",
              "      <td>163</td>\n",
              "      <td>1</td>\n",
              "      <td>0.6</td>\n",
              "      <td>2</td>\n",
              "      <td>0</td>\n",
              "      <td>2</td>\n",
              "      <td>1</td>\n",
              "    </tr>\n",
              "    <tr>\n",
              "      <th>...</th>\n",
              "      <td>...</td>\n",
              "      <td>...</td>\n",
              "      <td>...</td>\n",
              "      <td>...</td>\n",
              "      <td>...</td>\n",
              "      <td>...</td>\n",
              "      <td>...</td>\n",
              "      <td>...</td>\n",
              "      <td>...</td>\n",
              "      <td>...</td>\n",
              "      <td>...</td>\n",
              "      <td>...</td>\n",
              "      <td>...</td>\n",
              "      <td>...</td>\n",
              "    </tr>\n",
              "    <tr>\n",
              "      <th>197</th>\n",
              "      <td>57</td>\n",
              "      <td>0</td>\n",
              "      <td>0</td>\n",
              "      <td>140</td>\n",
              "      <td>241</td>\n",
              "      <td>0</td>\n",
              "      <td>1</td>\n",
              "      <td>123</td>\n",
              "      <td>1</td>\n",
              "      <td>0.2</td>\n",
              "      <td>1</td>\n",
              "      <td>0</td>\n",
              "      <td>3</td>\n",
              "      <td>0</td>\n",
              "    </tr>\n",
              "    <tr>\n",
              "      <th>198</th>\n",
              "      <td>45</td>\n",
              "      <td>1</td>\n",
              "      <td>3</td>\n",
              "      <td>110</td>\n",
              "      <td>264</td>\n",
              "      <td>0</td>\n",
              "      <td>1</td>\n",
              "      <td>132</td>\n",
              "      <td>0</td>\n",
              "      <td>1.2</td>\n",
              "      <td>1</td>\n",
              "      <td>0</td>\n",
              "      <td>3</td>\n",
              "      <td>0</td>\n",
              "    </tr>\n",
              "    <tr>\n",
              "      <th>199</th>\n",
              "      <td>68</td>\n",
              "      <td>1</td>\n",
              "      <td>0</td>\n",
              "      <td>144</td>\n",
              "      <td>193</td>\n",
              "      <td>1</td>\n",
              "      <td>1</td>\n",
              "      <td>141</td>\n",
              "      <td>0</td>\n",
              "      <td>3.4</td>\n",
              "      <td>1</td>\n",
              "      <td>2</td>\n",
              "      <td>3</td>\n",
              "      <td>0</td>\n",
              "    </tr>\n",
              "    <tr>\n",
              "      <th>200</th>\n",
              "      <td>57</td>\n",
              "      <td>1</td>\n",
              "      <td>0</td>\n",
              "      <td>130</td>\n",
              "      <td>131</td>\n",
              "      <td>0</td>\n",
              "      <td>1</td>\n",
              "      <td>115</td>\n",
              "      <td>1</td>\n",
              "      <td>1.2</td>\n",
              "      <td>1</td>\n",
              "      <td>1</td>\n",
              "      <td>3</td>\n",
              "      <td>0</td>\n",
              "    </tr>\n",
              "    <tr>\n",
              "      <th>201</th>\n",
              "      <td>57</td>\n",
              "      <td>0</td>\n",
              "      <td>1</td>\n",
              "      <td>130</td>\n",
              "      <td>236</td>\n",
              "      <td>0</td>\n",
              "      <td>0</td>\n",
              "      <td>174</td>\n",
              "      <td>0</td>\n",
              "      <td>0.0</td>\n",
              "      <td>1</td>\n",
              "      <td>1</td>\n",
              "      <td>2</td>\n",
              "      <td>0</td>\n",
              "    </tr>\n",
              "  </tbody>\n",
              "</table>\n",
              "<p>302 rows × 14 columns</p>\n",
              "</div>"
            ],
            "text/plain": [
              "     age  sex  cp  trestbps  chol  fbs  restecg  thalach  exang  oldpeak  \\\n",
              "0     63    1   3       145   233    1        0      150      0      2.3   \n",
              "1     37    1   2       130   250    0        1      187      0      3.5   \n",
              "2     41    0   1       130   204    0        0      172      0      1.4   \n",
              "3     56    1   1       120   236    0        1      178      0      0.8   \n",
              "4     57    0   0       120   354    0        1      163      1      0.6   \n",
              "..   ...  ...  ..       ...   ...  ...      ...      ...    ...      ...   \n",
              "197   57    0   0       140   241    0        1      123      1      0.2   \n",
              "198   45    1   3       110   264    0        1      132      0      1.2   \n",
              "199   68    1   0       144   193    1        1      141      0      3.4   \n",
              "200   57    1   0       130   131    0        1      115      1      1.2   \n",
              "201   57    0   1       130   236    0        0      174      0      0.0   \n",
              "\n",
              "     slope  ca  thal  target  \n",
              "0        0   0     1       1  \n",
              "1        0   0     2       1  \n",
              "2        2   0     2       1  \n",
              "3        2   0     2       1  \n",
              "4        2   0     2       1  \n",
              "..     ...  ..   ...     ...  \n",
              "197      1   0     3       0  \n",
              "198      1   0     3       0  \n",
              "199      1   2     3       0  \n",
              "200      1   1     3       0  \n",
              "201      1   1     2       0  \n",
              "\n",
              "[302 rows x 14 columns]"
            ]
          },
          "execution_count": 120,
          "metadata": {},
          "output_type": "execute_result"
        }
      ],
      "source": [
        "df"
      ]
    },
    {
      "cell_type": "markdown",
      "metadata": {
        "deletable": false,
        "editable": false,
        "id": "9QK8m9GRMNl4",
        "nbgrader": {
          "cell_type": "markdown",
          "checksum": "d0ff945d9969c0f8e85bfad047335b8e",
          "grade": false,
          "grade_id": "cell-320230170fd85580",
          "locked": true,
          "schema_version": 3,
          "solution": false
        }
      },
      "source": [
        "**1.2.4 Exercise:** Select the rows where *chol*>400 and only the columns age, sex, cp, chol, target. "
      ]
    },
    {
      "cell_type": "code",
      "execution_count": 129,
      "metadata": {
        "deletable": false,
        "id": "2JPOulxuMhJL",
        "nbgrader": {
          "cell_type": "code",
          "checksum": "a990e3ac009f667d936190ad9c173262",
          "grade": true,
          "grade_id": "cell-6cc840a5339e424a",
          "locked": false,
          "points": 1,
          "schema_version": 3,
          "solution": true
        }
      },
      "outputs": [],
      "source": [
        "# BEGIN CODE HERE\n",
        "selected = df.loc[df['chol'] > 400, ['age', 'sex', 'cp', 'chol', 'target']]\n",
        "#END CODE HERE"
      ]
    },
    {
      "cell_type": "code",
      "execution_count": 130,
      "metadata": {
        "deletable": false,
        "editable": false,
        "id": "2afysp0zNI8H",
        "nbgrader": {
          "cell_type": "code",
          "checksum": "a373c40e8500c6724c483511ef8d145a",
          "grade": false,
          "grade_id": "cell-48693c5bbb61e79b",
          "locked": true,
          "schema_version": 3,
          "solution": false
        }
      },
      "outputs": [
        {
          "data": {
            "text/html": [
              "<div>\n",
              "<style scoped>\n",
              "    .dataframe tbody tr th:only-of-type {\n",
              "        vertical-align: middle;\n",
              "    }\n",
              "\n",
              "    .dataframe tbody tr th {\n",
              "        vertical-align: top;\n",
              "    }\n",
              "\n",
              "    .dataframe thead th {\n",
              "        text-align: right;\n",
              "    }\n",
              "</style>\n",
              "<table border=\"1\" class=\"dataframe\">\n",
              "  <thead>\n",
              "    <tr style=\"text-align: right;\">\n",
              "      <th></th>\n",
              "      <th>age</th>\n",
              "      <th>sex</th>\n",
              "      <th>cp</th>\n",
              "      <th>chol</th>\n",
              "      <th>target</th>\n",
              "    </tr>\n",
              "  </thead>\n",
              "  <tbody>\n",
              "    <tr>\n",
              "      <th>28</th>\n",
              "      <td>65</td>\n",
              "      <td>0</td>\n",
              "      <td>2</td>\n",
              "      <td>417</td>\n",
              "      <td>1</td>\n",
              "    </tr>\n",
              "    <tr>\n",
              "      <th>85</th>\n",
              "      <td>67</td>\n",
              "      <td>0</td>\n",
              "      <td>2</td>\n",
              "      <td>564</td>\n",
              "      <td>1</td>\n",
              "    </tr>\n",
              "    <tr>\n",
              "      <th>119</th>\n",
              "      <td>63</td>\n",
              "      <td>0</td>\n",
              "      <td>0</td>\n",
              "      <td>407</td>\n",
              "      <td>0</td>\n",
              "    </tr>\n",
              "    <tr>\n",
              "      <th>145</th>\n",
              "      <td>56</td>\n",
              "      <td>0</td>\n",
              "      <td>0</td>\n",
              "      <td>409</td>\n",
              "      <td>0</td>\n",
              "    </tr>\n",
              "  </tbody>\n",
              "</table>\n",
              "</div>"
            ],
            "text/plain": [
              "     age  sex  cp  chol  target\n",
              "28    65    0   2   417       1\n",
              "85    67    0   2   564       1\n",
              "119   63    0   0   407       0\n",
              "145   56    0   0   409       0"
            ]
          },
          "execution_count": 130,
          "metadata": {},
          "output_type": "execute_result"
        }
      ],
      "source": [
        "selected"
      ]
    },
    {
      "cell_type": "markdown",
      "metadata": {
        "deletable": false,
        "editable": false,
        "id": "d_8E3vdsSe_h",
        "nbgrader": {
          "cell_type": "markdown",
          "checksum": "07c2f55dbfb129d7f518a1e65cf158d2",
          "grade": false,
          "grade_id": "cell-ec91fa8f3d207a07",
          "locked": true,
          "schema_version": 3,
          "solution": false
        }
      },
      "source": [
        "## 2.0 Linear Models ##\n",
        "\n",
        "In this part of the excersice you are going to build a logistic regression model from scratch."
      ]
    },
    {
      "cell_type": "markdown",
      "metadata": {
        "deletable": false,
        "editable": false,
        "id": "sJMbzOu6QGqL",
        "nbgrader": {
          "cell_type": "markdown",
          "checksum": "500e359861de99caea19bbc01977a10c",
          "grade": false,
          "grade_id": "cell-5dbf93d86dbdf181",
          "locked": true,
          "schema_version": 3,
          "solution": false
        }
      },
      "source": [
        "**2.1 Exercise:** Implement the sigmoid function using numpy. \n",
        "\n",
        "sigmoid function:\n",
        "$$\\sigma(t)= \\dfrac{1}{1 + exp(-t)}$$"
      ]
    },
    {
      "cell_type": "code",
      "execution_count": null,
      "metadata": {
        "deletable": false,
        "id": "FDBfIMSNQYmZ",
        "nbgrader": {
          "cell_type": "code",
          "checksum": "d979d15e4854581735443b06fa9790ba",
          "grade": false,
          "grade_id": "cell-fb0446f35e18e729",
          "locked": false,
          "schema_version": 3,
          "solution": true
        }
      },
      "outputs": [],
      "source": [
        "from numpy import exp\n",
        "def sigmoid(t):\n",
        "    \"\"\"\n",
        "    Compute the sigmoid of t\n",
        "    Arguments:\n",
        "    t -- A numpy array of any size\n",
        "    Return:\n",
        "    s -- sigmoid(t)\n",
        "    \"\"\"\n",
        "    # BEGIN CODE HERE\n",
        "    s = ...\n",
        "    #END CODE HERE\n",
        "    return s"
      ]
    },
    {
      "cell_type": "code",
      "execution_count": null,
      "metadata": {
        "deletable": false,
        "editable": false,
        "id": "ZRqupxwKRcRp",
        "nbgrader": {
          "cell_type": "code",
          "checksum": "98c34231b27c1d8be90deee50f23dc18",
          "grade": true,
          "grade_id": "cell-e7b2acaec5f0218a",
          "locked": true,
          "points": 5,
          "schema_version": 3,
          "solution": false
        }
      },
      "outputs": [],
      "source": [
        "x = np.array([2, 3, 4])\n",
        "print(sigmoid(x))"
      ]
    },
    {
      "cell_type": "markdown",
      "metadata": {
        "id": "AGoj1Q4I7z9B"
      },
      "source": [
        "**Expected output:**\n",
        "\n",
        "```\n",
        "[0.88079708 0.95257413 0.98201379]\n",
        "```\n",
        "\n"
      ]
    },
    {
      "cell_type": "markdown",
      "metadata": {
        "deletable": false,
        "editable": false,
        "id": "KFYp1zjbRt9p",
        "nbgrader": {
          "cell_type": "markdown",
          "checksum": "a4307fe509f7462d71b458340007a333",
          "grade": false,
          "grade_id": "cell-b79127fca8834e46",
          "locked": true,
          "schema_version": 3,
          "solution": false
        }
      },
      "source": [
        "**2.2 Exercise**: Implement parameter initialization in the cell below. You have to initialize w (weight vector) and b (bias) with zeros."
      ]
    },
    {
      "cell_type": "code",
      "execution_count": null,
      "metadata": {
        "deletable": false,
        "id": "PiLjAYCnUPSd",
        "nbgrader": {
          "cell_type": "code",
          "checksum": "50049aaaa3331bf4b8fa0a0e35652493",
          "grade": false,
          "grade_id": "cell-1f0ef74ec507ba62",
          "locked": false,
          "schema_version": 3,
          "solution": true
        }
      },
      "outputs": [],
      "source": [
        "def initialize(dim):\n",
        "    \"\"\"  \n",
        "    Argument:\n",
        "    dim -- the number of parameters\n",
        "\n",
        "    Returns:\n",
        "    w -- initialized vector of shape (1, dim)\n",
        "    b -- initialized bias weight\n",
        "    \"\"\"\n",
        "    # BEGIN CODE HERE\n",
        "    w = ...\n",
        "    b = ...\n",
        "    #END CODE HERE\n",
        "\n",
        "    assert(w.shape == (dim,))\n",
        "    assert(isinstance(b, float) or isinstance(b, int))\n",
        "\n",
        "    return w,b"
      ]
    },
    {
      "cell_type": "code",
      "execution_count": null,
      "metadata": {
        "deletable": false,
        "editable": false,
        "id": "50YvP0ABYj8z",
        "nbgrader": {
          "cell_type": "code",
          "checksum": "6cac7c75ae3ba755f737c9a2e31e9225",
          "grade": true,
          "grade_id": "cell-15e1a42f5173d30b",
          "locked": true,
          "points": 2,
          "schema_version": 3,
          "solution": false
        }
      },
      "outputs": [],
      "source": [
        "dim = 5\n",
        "w, b = initialize(dim)\n",
        "print (\"w = \" + str(w))\n",
        "print (\"b = \" + str(b))"
      ]
    },
    {
      "cell_type": "markdown",
      "metadata": {
        "id": "VS7zKY8487hB"
      },
      "source": [
        "**Expected output:**\n",
        "\n",
        "\n",
        "```\n",
        "w = [0. 0. 0. 0. 0.]\n",
        "b = 0\n",
        "```\n",
        "\n"
      ]
    },
    {
      "cell_type": "markdown",
      "metadata": {
        "deletable": false,
        "editable": false,
        "id": "aUOVogDFZZ3f",
        "nbgrader": {
          "cell_type": "markdown",
          "checksum": "a844bcdbaac95f0f867fe5eb3e0a1eaa",
          "grade": false,
          "grade_id": "cell-15b03530bea75821",
          "locked": true,
          "schema_version": 3,
          "solution": false
        }
      },
      "source": [
        "**2.3 Exercise**: Compute the cost of logistic regression using the sigmoid function above. You can find the dot product of two arrays by using the [np.dot()](https://docs.scipy.org/doc/numpy/reference/generated/numpy.dot.html). Check slide 39 (41). (Tip 1: you should append b (weight of bias) in front of w array, Tip 2: Pay attention to 'ML Course - Linear Models' covered in class to see how to combine $x_0$ with the other variables of $X$. Tip 3: You may use np.array, np.c_, np.dot, np.log, np.sum)"
      ]
    },
    {
      "cell_type": "code",
      "execution_count": null,
      "metadata": {
        "deletable": false,
        "id": "pX9ZRpaFVEPF",
        "nbgrader": {
          "cell_type": "code",
          "checksum": "f5add774cd28b1cd1b7f8ca114a86579",
          "grade": false,
          "grade_id": "cell-881ad9c45016bf18",
          "locked": false,
          "schema_version": 3,
          "solution": true
        }
      },
      "outputs": [],
      "source": [
        "def compute_cost(w,b,X,Y):\n",
        "    \"\"\"\n",
        "    Arguments:\n",
        "    w -- weights\n",
        "    b -- bias\n",
        "    X -- input data\n",
        "    Y -- target or label vector\n",
        "\n",
        "    Return:\n",
        "    sigma -- the sigmoid of the z\n",
        "    cost -- cost for logistic regression\n",
        "    \"\"\"\n",
        "    # BEGIN CODE HERE\n",
        "    bw = ... #(Optional)\n",
        "    X =  ... #(Optional)\n",
        "    sigma = ...\n",
        "    cost = ...\n",
        "    #END CODE HERE\n",
        "\n",
        "    return sigma, cost"
      ]
    },
    {
      "cell_type": "code",
      "execution_count": null,
      "metadata": {
        "deletable": false,
        "editable": false,
        "id": "scWsodDMbVen",
        "nbgrader": {
          "cell_type": "code",
          "checksum": "77a94642fd333ee19c1cbdfff27720db",
          "grade": true,
          "grade_id": "cell-9d38419c3ebd0acc",
          "locked": true,
          "points": 10,
          "schema_version": 3,
          "solution": false
        }
      },
      "outputs": [],
      "source": [
        "w, b, X, Y = np.array([1.,2.]), 2., np.array([[1.,3.],[2.,4.],[-1.,-3.2]]), np.array([1,0,1])\n",
        "sigma, cost = compute_cost(w, b, X, Y)\n",
        "print(\"Sigmoid:\",[i for i in sigma])\n",
        "print(\"Cost:\", str(cost))"
      ]
    },
    {
      "cell_type": "markdown",
      "metadata": {
        "deletable": false,
        "editable": false,
        "id": "pe43vxVhb8L1",
        "nbgrader": {
          "cell_type": "markdown",
          "checksum": "ceceeab4a917c2e76a6d9aa40fe52625",
          "grade": false,
          "grade_id": "cell-6e9022bd13951d73",
          "locked": true,
          "schema_version": 3,
          "solution": false
        }
      },
      "source": [
        "**Expected output**:\n",
        "\n",
        "```\n",
        "Sigmoid: [0.9998766054240137, 0.9999938558253978, 0.004496273160941178]\n",
        "Cost: 5.801545319394553\n",
        "```"
      ]
    },
    {
      "cell_type": "markdown",
      "metadata": {
        "deletable": false,
        "editable": false,
        "id": "j15xZTmQdX1e",
        "nbgrader": {
          "cell_type": "markdown",
          "checksum": "d4645f9b41fd8bd1541f9d18ee26d514",
          "grade": false,
          "grade_id": "cell-11775dbf025eb93d",
          "locked": true,
          "schema_version": 3,
          "solution": false
        }
      },
      "source": [
        "**2.4 Exercise** Compute the gradient of w and b. Compute grad as in slide 40 (Compute X and bw like above)"
      ]
    },
    {
      "cell_type": "code",
      "execution_count": null,
      "metadata": {
        "deletable": false,
        "id": "wnf2bruQdfVp",
        "nbgrader": {
          "cell_type": "code",
          "checksum": "a4e88ce7b3c54d91b2245a5fb58be553",
          "grade": false,
          "grade_id": "cell-b76e1fe6a6515ea3",
          "locked": false,
          "schema_version": 3,
          "solution": true
        }
      },
      "outputs": [],
      "source": [
        "def gradient(w,b,X,Y,sigma):\n",
        "    \"\"\"\n",
        "    Arguments:\n",
        "    w -- weights\n",
        "    b -- bias\n",
        "    X -- input data\n",
        "    Y -- target or label vector\n",
        "\n",
        "    Return:\n",
        "    dw -- gradient of the loss with respect to w (numpy array) \n",
        "    db -- gradient of the loss with respect to b (scalar)\n",
        "    \"\"\"\n",
        "    # BEGIN CODE HERE\n",
        "    bw = ... #(Optional)\n",
        "    X =  ... #(Optional)\n",
        "    grad = ... #(Optional)\n",
        "    dw = ...\n",
        "    db = ...\n",
        "\n",
        "    #END CODE HERE\n",
        "\n",
        "    return dw, db"
      ]
    },
    {
      "cell_type": "code",
      "execution_count": null,
      "metadata": {
        "deletable": false,
        "editable": false,
        "id": "PsqriY0EeXfz",
        "nbgrader": {
          "cell_type": "code",
          "checksum": "994826e70eb04b6e6dee37c95ac0d21b",
          "grade": true,
          "grade_id": "cell-c11254300ee020b3",
          "locked": true,
          "points": 5,
          "schema_version": 3,
          "solution": false
        }
      },
      "outputs": [],
      "source": [
        "w, b, X, Y = np.array([1.,2.]), 2., np.array([[1.,3.],[2.,4.],[-1.,-3.2]]), np.array([1,0,1])\n",
        "dw, db = gradient(w, b, X, Y,sigma)\n",
        "print (\"dw = \" + str(dw))\n",
        "print (\"db = \" + str(db))\n"
      ]
    },
    {
      "cell_type": "markdown",
      "metadata": {
        "deletable": false,
        "editable": false,
        "id": "82sKa2BHe3pE",
        "nbgrader": {
          "cell_type": "markdown",
          "checksum": "8257c34c378e78b316fc953203accad5",
          "grade": false,
          "grade_id": "cell-e3749a16a1cf0dfc",
          "locked": true,
          "schema_version": 3,
          "solution": false
        }
      },
      "source": [
        "**Expected Output**:\n",
        "\n",
        "\n",
        "```\n",
        "dw = [0.99845601 2.39507239]\n",
        "db = 0.001455578136784208\n",
        "```"
      ]
    },
    {
      "cell_type": "markdown",
      "metadata": {
        "deletable": false,
        "editable": false,
        "id": "kFEC6UNrpFie",
        "nbgrader": {
          "cell_type": "markdown",
          "checksum": "350a080a31e3e7bef3110bb848618858",
          "grade": false,
          "grade_id": "cell-a89314f33d6ef4cf",
          "locked": true,
          "schema_version": 3,
          "solution": false
        }
      },
      "source": [
        "**2.5 Exercise** Implement the parameters update function below. The goal is to learn $w$ and $b$ by minimizing the cost function $J$. For a parameter $\\theta$, the update rule is $ \\theta = \\theta - \\alpha \\text{ } d\\theta$, where $\\alpha$ is the learning rate. Tip: Use the functions developed above. "
      ]
    },
    {
      "cell_type": "code",
      "execution_count": null,
      "metadata": {
        "deletable": false,
        "id": "Vprh1oA_ps2E",
        "nbgrader": {
          "cell_type": "code",
          "checksum": "59c10891c7341bf8f79a9abec6bd50a6",
          "grade": false,
          "grade_id": "cell-050c33f712ee5e19",
          "locked": false,
          "schema_version": 3,
          "solution": true
        }
      },
      "outputs": [],
      "source": [
        "def update_parameters(w,b,X,Y,num_iterations,learning_rate):\n",
        "    \"\"\"\n",
        "    This function optimizes w and b by running a gradient descent algorithm\n",
        "\n",
        "      Arguments:\n",
        "      w -- weights\n",
        "      b -- bias\n",
        "      X -- input data\n",
        "      Y -- target or label vector\n",
        "      num_iterations -- number of iterations of the optimization loop\n",
        "      learning_rate -- learning rate of the gradient descent update rule\n",
        "\n",
        "      Returns:\n",
        "      params -- dictionary containing the weights w and bias b\n",
        "      grads -- dictionary containing the gradients of the weights and bias with respect to the cost function.\n",
        "    \"\"\"\n",
        "    for i in range(num_iterations):\n",
        "        w_prev = w\n",
        "        b_prev = b\n",
        "        # BEGIN CODE HERE\n",
        "        # Cost and gradient calculation\n",
        "        sigma, cost = ...\n",
        "        dw, db = ...\n",
        "        # update rule\n",
        "        w = w_prev - ...\n",
        "        b = b_prev - ...\n",
        "        #END CODE HERE\n",
        "\n",
        "        # Print the cost every 100 training iterations\n",
        "        if i % 100 == 0:\n",
        "            print (\"Cost after iteration %i: %f\" %(i, cost)) \n",
        "\n",
        "    return w,b,dw,db\n",
        "\n"
      ]
    },
    {
      "cell_type": "code",
      "execution_count": null,
      "metadata": {
        "deletable": false,
        "editable": false,
        "id": "bdnvS5wlrcQT",
        "nbgrader": {
          "cell_type": "code",
          "checksum": "50b609d638a66ed65c95004ba78d192f",
          "grade": true,
          "grade_id": "cell-3c58cac7b833a102",
          "locked": true,
          "points": 8,
          "schema_version": 3,
          "solution": false
        }
      },
      "outputs": [],
      "source": [
        "w, b, X, Y = np.array([1.,2.]), 2., np.array([[1.,3.],[2.,4.],[-1.,-3.2]]), np.array([1,0,1])\n",
        "w, b, dw, db = update_parameters(w, b, X, Y, num_iterations= 100, learning_rate = 0.009)\n",
        "print (\"w = \" + str(w))\n",
        "print (\"b = \" + str(b))\n",
        "print (\"dw = \" + str(dw))\n",
        "print (\"db = \" + str(db))\n"
      ]
    },
    {
      "cell_type": "markdown",
      "metadata": {
        "deletable": false,
        "editable": false,
        "id": "CxHSKGB9s2I7",
        "nbgrader": {
          "cell_type": "markdown",
          "checksum": "39f7a59ae15e7a0a69849981e41cc1c8",
          "grade": false,
          "grade_id": "cell-5972f0bc2ef5bf8c",
          "locked": true,
          "schema_version": 3,
          "solution": false
        }
      },
      "source": [
        "**Expected Output**: \n",
        "\n",
        "```\n",
        "Cost after iteration 0: 5.801545\n",
        "w = [0.19033591 0.12259159]\n",
        "b = 1.9253598300845747\n",
        "dw = [0.67752042 1.41625495]\n",
        "db = 0.21919450454067657\n",
        "```"
      ]
    },
    {
      "cell_type": "markdown",
      "metadata": {
        "deletable": false,
        "editable": false,
        "id": "3bnW_pZtuYc2",
        "nbgrader": {
          "cell_type": "markdown",
          "checksum": "dcd98e8e2455a816b1dd8790a5306a59",
          "grade": false,
          "grade_id": "cell-206c6de13177420f",
          "locked": true,
          "schema_version": 3,
          "solution": false
        }
      },
      "source": [
        "**2.6 Predict** Implement the predict() function by calculating the $y'$ and then convert the probabilities to actual predictions 0 or 1 using 0.5 as threshold (check slides). \n",
        "\n",
        "\n"
      ]
    },
    {
      "cell_type": "code",
      "execution_count": null,
      "metadata": {
        "deletable": false,
        "id": "VaAnQYNywYAj",
        "nbgrader": {
          "cell_type": "code",
          "checksum": "98453d6cf1120f316025f3059887fac0",
          "grade": false,
          "grade_id": "cell-24896766b07ecd4f",
          "locked": false,
          "schema_version": 3,
          "solution": true
        }
      },
      "outputs": [],
      "source": [
        "def predict(w, b, X):\n",
        "    '''\n",
        "    Predict whether the label is 0 or 1 using learned logistic regression parameters (w, b)\n",
        "    Arguments:\n",
        "    w -- weights\n",
        "    b -- bias, a scalar\n",
        "    X -- input data\n",
        "    \n",
        "    Returns:\n",
        "    Y_prediction -- a numpy array (vector) containing all predictions (0/1) for the examples in X\n",
        "    '''\n",
        "    m = X.shape[0]\n",
        "    Y_prediction = np.zeros((m,))\n",
        "    \n",
        "    # BEGIN CODE HERE\n",
        "    # Compute vector \"sigma\" predicting the probabilities of input X\n",
        "    bw = ... #(Optional)\n",
        "    X =  ... #(Optional)\n",
        "    sigma = ....\n",
        "    \n",
        "    # Convert probabilities of each instance (of sigma) to actual predictions.\n",
        "    Y_prediction = ...\n",
        "    #END CODE HERE\n",
        "    \n",
        "    assert(Y_prediction.shape == (m,))\n",
        "    \n",
        "    return Y_prediction"
      ]
    },
    {
      "cell_type": "code",
      "execution_count": null,
      "metadata": {
        "deletable": false,
        "editable": false,
        "id": "q2P-3OBaxBLT",
        "nbgrader": {
          "cell_type": "code",
          "checksum": "c05dc02ef30d38e3b6cf8fae342bc4e3",
          "grade": true,
          "grade_id": "cell-dc9eb4e2a0da0d10",
          "locked": true,
          "points": 5,
          "schema_version": 3,
          "solution": false
        }
      },
      "outputs": [],
      "source": [
        "w = np.array([0.1124579,0.23106775])\n",
        "b = -0.3\n",
        "X = np.array([[1.,1.2],[-1.1,2.],[-3.2,0.1]])\n",
        "print (\"predictions = \" + str(predict(w, b, X)))"
      ]
    },
    {
      "cell_type": "markdown",
      "metadata": {
        "deletable": false,
        "editable": false,
        "id": "fhPhPQZvx4TC",
        "nbgrader": {
          "cell_type": "markdown",
          "checksum": "cbe3b2c5e724ae28aa31729124ef4a87",
          "grade": false,
          "grade_id": "cell-9ad0176df00b6db8",
          "locked": true,
          "schema_version": 3,
          "solution": false
        }
      },
      "source": [
        "**Expected Output**: \n",
        "\n",
        "```\n",
        "predictions = [1 1 0]\n",
        "```"
      ]
    },
    {
      "cell_type": "markdown",
      "metadata": {
        "deletable": false,
        "editable": false,
        "id": "LSEzK5Cc0E3X",
        "nbgrader": {
          "cell_type": "markdown",
          "checksum": "270bed39335e5969497ffeecd21c0630",
          "grade": false,
          "grade_id": "cell-4363754ff1f87e60",
          "locked": true,
          "schema_version": 3,
          "solution": false
        }
      },
      "source": [
        "**2.7 Exercise** Put all the above blocks in the right order to create a model in the function below."
      ]
    },
    {
      "cell_type": "code",
      "execution_count": null,
      "metadata": {
        "deletable": false,
        "id": "oy4UD-zR0Sps",
        "nbgrader": {
          "cell_type": "code",
          "checksum": "87403c6f9eca3fa5182d3c494fdf48eb",
          "grade": true,
          "grade_id": "cell-c82b256d30be76dd",
          "locked": false,
          "points": 5,
          "schema_version": 3,
          "solution": true
        }
      },
      "outputs": [],
      "source": [
        "def model(X_train, Y_train, X_test, Y_test, num_iterations = 2000, learning_rate = 0.5):\n",
        "    \"\"\"\n",
        "    Builds the logistic regression model by calling the function you've implemented previously\n",
        "    Arguments:\n",
        "    X_train -- training set represented by a numpy array\n",
        "    Y_train -- training labels represented by a numpy array (vector) of shape (1, m_train)\n",
        "    X_test -- test set represented by a numpy array of shape\n",
        "    Y_test -- test labels represented by a numpy array (vector) of shape (1, m_test)\n",
        "    num_iterations -- hyperparameter representing the number of iterations to optimize the parameters\n",
        "    learning_rate -- hyperparameter representing the learning rate used in the update rule of update_parameters()\n",
        "\n",
        "    Returns:\n",
        "    d -- dictionary containing information about the model.\n",
        "    \"\"\"\n",
        "    # BEGIN CODE HERE\n",
        "    # initialize parameters\n",
        "    w, b = ...\n",
        "\n",
        "    # Gradient descent\n",
        "    w, b, dw, db = ...\n",
        "    \n",
        "    # Predict test/train set examples\n",
        "    Y_prediction_test = ...\n",
        "    Y_prediction_train = ...\n",
        "    #END CODE HERE\n",
        "\n",
        "    # Print train/test Errors\n",
        "    print(\"train accuracy: {} %\".format(100 - np.mean(np.abs(Y_prediction_train - Y_train)) * 100))\n",
        "    print(\"test accuracy: {} %\".format(100 - np.mean(np.abs(Y_prediction_test - Y_test)) * 100))\n",
        "\n",
        "\n",
        "    d = {\"Y_prediction_test\": Y_prediction_test, \n",
        "        \"Y_prediction_train\" : Y_prediction_train, \n",
        "        \"w\" : w, \n",
        "        \"b\" : b,\n",
        "        \"learning_rate\" : learning_rate,\n",
        "        \"num_iterations\": num_iterations}\n",
        "\n",
        "    return d\n"
      ]
    },
    {
      "cell_type": "markdown",
      "metadata": {
        "deletable": false,
        "editable": false,
        "id": "eSv1oc0IgJUd",
        "nbgrader": {
          "cell_type": "markdown",
          "checksum": "cd21e5fc5056f1abfbe5e6ad62d1ab60",
          "grade": false,
          "grade_id": "cell-2ed9838dc6fc1c78",
          "locked": true,
          "schema_version": 3,
          "solution": false
        }
      },
      "source": [
        "**2.8 Exercise** Create your own dataset from a multivariate normal distribution to test the model with a total of 2000 samples. The mean and covariance matrix are given for each class.  "
      ]
    },
    {
      "cell_type": "code",
      "execution_count": null,
      "metadata": {
        "deletable": false,
        "id": "NDzIkc6v1Uf8",
        "nbgrader": {
          "cell_type": "code",
          "checksum": "fe25dc25820215f1a4af84fb5b4c6702",
          "grade": true,
          "grade_id": "cell-8046bbd0795583df",
          "locked": false,
          "points": 5,
          "schema_version": 3,
          "solution": true
        }
      },
      "outputs": [],
      "source": [
        "import matplotlib.pyplot as plt\n",
        "num_observations = 1000 #number of observations of each \n",
        "mean_class1 = [0, 0]\n",
        "mean_class2 = [1, 4]\n",
        "cov_matrix =  [[0.5, 0],[0, 0.5]]\n",
        "\n",
        "# BEGIN CODE HERE\n",
        "x1 = ... # Using the mean for the class 1\n",
        "x2 = ... # Using the mean for the class 2\n",
        "\n",
        "# TIP: check numpy vstack and hstack\n",
        "X = ... #Combine features together\n",
        "y = ... #Create the labels (Tip: Assign to Class1 label 1 or 0, and to Class2 the one left)\n",
        "#END CODE HERE\n",
        "\n",
        "\n",
        "plt.figure(figsize=(8,8))\n",
        "plt.scatter(X[0:num_observations, 0], \n",
        "            X[0:num_observations, 1],\n",
        "            c = 'r', alpha = .4)\n",
        "plt.scatter(X[num_observations:, 0], \n",
        "            X[num_observations:, 1],\n",
        "            c = 'b', alpha = .4)"
      ]
    },
    {
      "cell_type": "markdown",
      "metadata": {
        "deletable": false,
        "editable": false,
        "id": "w7lyf-hkmMJV",
        "nbgrader": {
          "cell_type": "markdown",
          "checksum": "1582fad4c9094837510023d1a66fa421",
          "grade": false,
          "grade_id": "cell-ecbabdb9ea4f45da",
          "locked": true,
          "schema_version": 3,
          "solution": false
        }
      },
      "source": [
        "Your plot should look like similar to this:\n",
        "\n",
        "![plot](https://raw.githubusercontent.com/sakrifor/public/master/machine_learning_course/images/plot.png)"
      ]
    },
    {
      "cell_type": "markdown",
      "metadata": {
        "deletable": false,
        "editable": false,
        "id": "N6gklYbei7Te",
        "nbgrader": {
          "cell_type": "markdown",
          "checksum": "f0501b0063f279c1dfde4374a8c5abd3",
          "grade": false,
          "grade_id": "cell-911f6638e52cfc11",
          "locked": true,
          "schema_version": 3,
          "solution": false,
          "task": false
        }
      },
      "source": [
        "**2.9 Exercise** Split your dataset into train and test set and then use the model function to evaluate your model. Be careful to include both classes in train and test set. Finally, make a plot containing the samples and the line the model has learned. Use [train_test_split from sklearn](https://scikit-learn.org/stable/modules/generated/sklearn.model_selection.train_test_split.html#sklearn.model_selection.train_test_split) to split X and y to train and test sets of 50% and 50%, respectively. You should also use the shuffle parameter."
      ]
    },
    {
      "cell_type": "code",
      "execution_count": null,
      "metadata": {
        "deletable": false,
        "id": "0e0BE1vJaEiM",
        "nbgrader": {
          "cell_type": "code",
          "checksum": "05e708a8bcfa86f52587ab70f8b000ce",
          "grade": true,
          "grade_id": "cell-199f5d6fb1cac508",
          "locked": false,
          "points": 5,
          "schema_version": 3,
          "solution": true,
          "task": false
        }
      },
      "outputs": [],
      "source": [
        "# BEGIN CODE HERE\n",
        "from ... import train_test_split\n",
        "X_train, X_test, y_train, y_test =  train_test_split(..., random_state=77)\n",
        "#END CODE HERE\n",
        "\n",
        "d = model(X_train,y_train,X_test,y_test,num_iterations = 1000, learning_rate = 0.001)\n",
        "\n",
        "# Plot again\n",
        "plt.figure(figsize=(8,8))\n",
        "plt.scatter(X[0:num_observations, 0], \n",
        "            X[0:num_observations, 1],\n",
        "            c = 'r', alpha = .4)\n",
        "plt.scatter(X[num_observations:, 0], \n",
        "            X[num_observations:, 1],\n",
        "            c = 'b', alpha = .4)\n",
        "\n",
        "x_boundary = np.linspace(-3, 4, 1000) # Return evenly spaced numbers over a specified interval.\n",
        "weights =  d['w'][0]\n",
        "y_boundary = -((weights*x_boundary/d['w'][1]) + (d['b']/d['w'][1]))\n",
        "\n",
        "plt.plot(x_boundary, y_boundary, color='black')"
      ]
    },
    {
      "cell_type": "markdown",
      "metadata": {
        "id": "c6Zk3fQGIR0A"
      },
      "source": [
        "**Expected output:**\n",
        "\n",
        "```\n",
        "Cost after iteration 0: 0.693147\n",
        "Cost after iteration 100: 0.600447\n",
        "Cost after iteration 200: 0.539996\n",
        "Cost after iteration 300: 0.498561\n",
        "Cost after iteration 400: 0.468604\n",
        "Cost after iteration 500: 0.445865\n",
        "Cost after iteration 600: 0.427867\n",
        "Cost after iteration 700: 0.413113\n",
        "Cost after iteration 800: 0.400661\n",
        "Cost after iteration 900: 0.389897\n",
        "train accuracy: 83.6 %\n",
        "test accuracy: 80.3 %\n",
        "```"
      ]
    },
    {
      "cell_type": "markdown",
      "metadata": {
        "id": "RDlwjY4P2QXD"
      },
      "source": [
        "**2.10 Optional Exercise:** This exercise is optional, but if you implement it you will receive a bonus. Moreover, it will make the following exercise much easier (+ it will help you in the future in general). Let's create a class containing all the neccessary functions to train a Logistic Regression model and make predictions.\n",
        "\n",
        "**self** represents the instance of the class. By using the **self** keyword we can access the attributes (public variables) and methods (functions) of the class in python [Source](https://www.geeksforgeeks.org/self-in-python-class/). It binds the attributes with the given arguments of an instance. Therefore, for the class MyLogisticRegression, we can create an instance of this class:\n",
        "\n",
        "```\n",
        "lr = MyLogisticRegression(...)\n",
        "```\n",
        "And we can use its public variables and methods\n",
        "```\n",
        "lr.num_iterations = 2000\n",
        "print(lr.num_iterations) #Will print the public variable\n",
        "```"
      ]
    },
    {
      "cell_type": "code",
      "execution_count": null,
      "metadata": {
        "id": "aKXgZJqT2PwT"
      },
      "outputs": [],
      "source": [
        "from numpy import exp\n",
        "\n",
        "class MyLogisticRegression:\n",
        "    def __init__(self, num_iterations=2000, learning_rate=0.004):\n",
        "      self.w = None\n",
        "      self.b = None\n",
        "      # BEGIN CODE HERE\n",
        "      self.num_iterations = ...\n",
        "      self.learning_rate = ...\n",
        "      #END CODE HERE\n",
        "\n",
        "    def _sigmoid(self, t):\n",
        "        \"\"\"\n",
        "        Compute the sigmoid of t\n",
        "        Arguments:\n",
        "        t -- A numpy array of any size\n",
        "        Return:\n",
        "        s -- sigmoid(t)\n",
        "        \"\"\"\n",
        "        # BEGIN CODE HERE\n",
        "        s = ...\n",
        "        #END CODE HERE\n",
        "        return s\n",
        "\n",
        "    def _initialize(self, dim):\n",
        "      \"\"\"  \n",
        "      Argument:\n",
        "        dim -- the number of parameters\n",
        "      \"\"\"\n",
        "      # BEGIN CODE HERE\n",
        "      self.w = ...\n",
        "      self.b = ...\n",
        "      #END CODE HERE\n",
        "\n",
        "      assert(self.w.shape == (dim,))\n",
        "      assert(isinstance(self.b, float) or isinstance(self.b, int))\n",
        "\n",
        "      #Note here that there is no return command, because this function saves w and b in self (public variables of each instance)\n",
        "\n",
        "    def _compute_cost(self, X, Y):\n",
        "        \"\"\"\n",
        "        Arguments:\n",
        "        X -- input data\n",
        "        Y -- target or label vector\n",
        "        Return:\n",
        "        sigma -- the sigmoid of the z\n",
        "        cost -- cost for logistic regression\n",
        "        \"\"\"\n",
        "        # BEGIN CODE HERE\n",
        "        bw = ... #(Optional) don't forget that in order to use variables w and b, you should use self.\n",
        "        X =  ... #(Optional)\n",
        "        sigma = self._...\n",
        "        cost = ...\n",
        "        #END CODE HERE\n",
        "\n",
        "        return sigma, cost\n",
        "\n",
        "    def _gradient(self, X, Y, sigma):\n",
        "        \"\"\"\n",
        "        Arguments:\n",
        "        X -- input data\n",
        "        Y -- target or label vector\n",
        "        sigma -- the sigmoid of the z\n",
        "        Return:\n",
        "        dw -- gradient of the loss with respect to w (numpy array) \n",
        "        db -- gradient of the loss with respect to b (scalar)\n",
        "        \"\"\"\n",
        "        # BEGIN CODE HERE\n",
        "        bw = ... #(Optional) don't forget that in order to use variables w and b, you should use self.\n",
        "        X =  ... #(Optional)\n",
        "        grad = ... #(Optional) \n",
        "        dw = ...\n",
        "        db = ...\n",
        "        #END CODE HERE\n",
        "\n",
        "        return dw, db\n",
        "\n",
        "    def _update_parameters(self, X, Y):\n",
        "        \"\"\"\n",
        "        This function optimizes w and b by running a gradient descent algorithm\n",
        "\n",
        "          Arguments:\n",
        "          X -- input data\n",
        "          Y -- target or label vector\n",
        "\n",
        "          Returns:\n",
        "          params -- dictionary containing the weights w and bias b\n",
        "          grads -- dictionary containing the gradients of the weights and bias with respect to the cost function.\n",
        "        \"\"\"\n",
        "        for i in range(self.num_iterations):\n",
        "            w_prev = self.w\n",
        "            b_prev = self.b\n",
        "\n",
        "            sigma, cost = self._compute_cost(X, Y)\n",
        "            dw, db = self._gradient(X, Y, sigma)\n",
        "\n",
        "            # BEGIN CODE HERE\n",
        "            self.w = w_prev - self...\n",
        "            self.b = b_prev - self...\n",
        "            #END CODE HERE\n",
        "\n",
        "        return dw,db\n",
        "\n",
        "    def predict(self, X):\n",
        "        '''\n",
        "        Predict whether the label is 0 or 1 using learned logistic regression parameters (w, b)\n",
        "        \n",
        "        Arguments:\n",
        "        X -- input data\n",
        "        \n",
        "        Returns:\n",
        "        Y_prediction -- a numpy array (vector) containing all predictions (0/1) for the examples in X\n",
        "        '''\n",
        "        m = X.shape[0]\n",
        "        Y_prediction = np.zeros((m,))\n",
        "        \n",
        "        # BEGIN CODE HERE\n",
        "        # Compute vector \"sigma\" predicting the probabilities of input X\n",
        "        bw = ... #(Optional) don't forget that in order to use variables w and b, you should use self.\n",
        "        X =  ... #(Optional)\n",
        "        sigma = self._...\n",
        "        \n",
        "        # Convert probabilities of each instance (of sigma) to actual predictions.\n",
        "        Y_prediction = ...\n",
        "        #END CODE HERE\n",
        "        assert(Y_prediction.shape == (m,))\n",
        "        \n",
        "        return Y_prediction\n",
        "\n",
        "    def fit_evaluate(self, X_train, Y_train, X_test, Y_test):\n",
        "        \"\"\"\n",
        "        Builds the logistic regression model by calling the function you've implemented previously\n",
        "\n",
        "        Arguments:\n",
        "        X_train -- training set represented by a numpy array\n",
        "        Y_train -- training labels represented by a numpy array (vector) of shape (1, m_train)\n",
        "        X_test -- test set represented by a numpy array of shape\n",
        "        Y_test -- test labels represented by a numpy array (vector) of shape (1, m_test)\n",
        "        num_iterations -- hyperparameter representing the number of iterations to optimize the parameters\n",
        "        learning_rate -- hyperparameter representing the learning rate used in the update rule of update_parameters()\n",
        "\n",
        "        Returns:\n",
        "        d -- dictionary containing information about the model.\n",
        "        \"\"\"\n",
        "        # BEGIN CODE HERE\n",
        "        # initialize parameters\n",
        "        self._...\n",
        "\n",
        "        # Gradient descent\n",
        "        dw, db = self._...\n",
        "        \n",
        "        # Predict test/train set examples\n",
        "        Y_prediction_test = self...\n",
        "        Y_prediction_train = self...\n",
        "        #END CODE HERE\n",
        "\n",
        "        # Print train/test Errors\n",
        "        print(\"train accuracy: {} %\".format(100 - np.mean(np.abs(Y_prediction_train - Y_train)) * 100))\n",
        "        print(\"test accuracy: {} %\".format(100 - np.mean(np.abs(Y_prediction_test - Y_test)) * 100))\n",
        "\n",
        "\n",
        "        d = {\"Y_prediction_test\": Y_prediction_test, \n",
        "            \"Y_prediction_train\" : Y_prediction_train, \n",
        "            \"w\" : w, \n",
        "            \"b\" : b,\n",
        "            \"learning_rate\" : self.learning_rate,\n",
        "            \"num_iterations\": self.num_iterations}\n",
        "\n",
        "        return d\n"
      ]
    },
    {
      "cell_type": "code",
      "execution_count": null,
      "metadata": {
        "id": "fHQgqRe5786m"
      },
      "outputs": [],
      "source": [
        "linearModel = MyLogisticRegression(1000, 0.001)\n",
        "d = linearModel.fit_evaluate(X_train, y_train, X_test, y_test)"
      ]
    },
    {
      "cell_type": "markdown",
      "metadata": {
        "id": "6y0Wzirm_yht"
      },
      "source": [
        "**Expected output:**\n",
        "\n",
        "```\n",
        "train accuracy: 83.6 %\n",
        "test accuracy: 80.3 %\n",
        "```"
      ]
    },
    {
      "cell_type": "markdown",
      "metadata": {
        "deletable": false,
        "editable": false,
        "id": "cL4U8X6rodey",
        "nbgrader": {
          "cell_type": "markdown",
          "checksum": "9fe28e603be5cc8992b63c695915b305",
          "grade": false,
          "grade_id": "cell-f379407e8f4b0d61",
          "locked": true,
          "schema_version": 3,
          "solution": false,
          "task": false
        }
      },
      "source": [
        "## 3.0 Regularization ##\n",
        "\n",
        "Rewrite any of the above functions in the below block so as the Logistic Regression to have the option to run with **L1** and **L2** regularization. Rewrite only the functions needed. (Tip: If you use the class, this excercise is much easier. You should rewrite the class, changing the constructor of the class and only one more function to implement the regularization. Then, you will be able to call those commands for the different regularization parameters)\n",
        "\n",
        "```\n",
        "linearModel = MyLogisticRegression(1000, 0.001, 'l1')\n",
        "linearModel = MyLogisticRegression(1000, 0.001, 'l2')\n",
        "```\n"
      ]
    },
    {
      "cell_type": "code",
      "execution_count": null,
      "metadata": {
        "deletable": false,
        "id": "oemHripT8nvE",
        "nbgrader": {
          "cell_type": "code",
          "checksum": "59b6aba4f70a65a633cc67da4a35c1d0",
          "grade": true,
          "grade_id": "cell-00c4b14e03d90376",
          "locked": false,
          "points": 25,
          "schema_version": 3,
          "solution": true,
          "task": false
        }
      },
      "outputs": [],
      "source": [
        "### BEGIN CODE HERE\n",
        "pass\n",
        "\n",
        "#END CODE HERE"
      ]
    },
    {
      "cell_type": "code",
      "execution_count": null,
      "metadata": {
        "id": "4SyI-VtVvefd"
      },
      "outputs": [],
      "source": [
        "#You can freely test your code here"
      ]
    },
    {
      "cell_type": "markdown",
      "metadata": {
        "deletable": false,
        "editable": false,
        "id": "5UsPoeQ8VpmV",
        "nbgrader": {
          "cell_type": "markdown",
          "checksum": "f9786e9d2abc991be3dc7dd11946c0c9",
          "grade": false,
          "grade_id": "cell-7b1bcd8fb3c836ee",
          "locked": true,
          "schema_version": 3,
          "solution": false,
          "task": false
        }
      },
      "source": [
        "## **Questions** ##\n",
        "\n",
        "Answer below!\n",
        "\n",
        "1. Your model should achieve around 80% accuracy in the test set. If you want to improve the accuracy what changes you should make? Report the changes and the results. (It can reach above 95%)\n",
        "2. Besides using a specific number of iterations for your model what else you can do to stop the training? \n",
        "3. Do you notice any differences when using the L1 or L2 regularization? Is so, why? If not, why? (Answer based on what you've learned in class)\n",
        "\n",
        "Bonus Question:\n",
        "*What parts of this assignment were not clear or misleading? Are there any other comments on this assignment?* \n",
        "\n"
      ]
    },
    {
      "cell_type": "code",
      "execution_count": null,
      "metadata": {
        "deletable": false,
        "id": "TNz5dOTw8hWz",
        "nbgrader": {
          "cell_type": "markdown",
          "checksum": "eb6ea3a1a4efda46c432400ce6058e66",
          "grade": true,
          "grade_id": "cell-daef52bcbcbb8de9",
          "locked": false,
          "points": 15,
          "schema_version": 3,
          "solution": true,
          "task": false
        }
      },
      "outputs": [],
      "source": [
        "YOUR ANSWER HERE"
      ]
    }
  ],
  "metadata": {
    "colab": {
      "collapsed_sections": [],
      "name": "AEM_FIRSTNAME_LASTNAME_EMAIL_LinearModels.ipynb",
      "provenance": []
    },
    "kernelspec": {
      "display_name": "Python 3",
      "language": "python",
      "name": "python3"
    },
    "language_info": {
      "codemirror_mode": {
        "name": "ipython",
        "version": 3
      },
      "file_extension": ".py",
      "mimetype": "text/x-python",
      "name": "python",
      "nbconvert_exporter": "python",
      "pygments_lexer": "ipython3",
      "version": "3.7.6"
    }
  },
  "nbformat": 4,
  "nbformat_minor": 0
}
