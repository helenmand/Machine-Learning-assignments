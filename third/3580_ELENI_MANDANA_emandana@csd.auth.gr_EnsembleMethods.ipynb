{
  "cells": [
    {
      "cell_type": "markdown",
      "metadata": {
        "id": "O8gU7AYPXMmA"
      },
      "source": [
        "## About iPython Notebooks ##\n",
        "\n",
        "iPython Notebooks are interactive coding environments embedded in a webpage. You will be using iPython notebooks in this class. Make sure you fill in any place that says `# BEGIN CODE HERE #END CODE HERE`. After writing your code, you can run the cell by either pressing \"SHIFT\"+\"ENTER\" or by clicking on \"Run\" (denoted by a play symbol). Before you turn this problem in, make sure everything runs as expected. First, **restart the kernel** (in the menubar, select Kernel$\\rightarrow$Restart) and then **run all cells** (in the menubar, select Cell$\\rightarrow$Run All). \n",
        "\n",
        " **What you need to remember:**\n",
        "\n",
        "- Run your cells using SHIFT+ENTER (or \"Run cell\")\n",
        "- Write code in the designated areas using Python 3 only\n",
        "- Do not modify the code outside of the designated areas\n",
        "- In some cases you will also need to explain the results. There will also be designated areas for that. \n",
        "\n",
        "Fill in your **NAME** and **AEM** below:"
      ]
    },
    {
      "cell_type": "code",
      "execution_count": null,
      "metadata": {
        "id": "lO-jJrtNXMmH"
      },
      "outputs": [],
      "source": [
        "NAME = \"Eleni Mandana\"\n",
        "AEM = \"3580\""
      ]
    },
    {
      "cell_type": "markdown",
      "metadata": {
        "id": "sh0EE7BJXMmJ"
      },
      "source": [
        "---"
      ]
    },
    {
      "cell_type": "markdown",
      "metadata": {
        "id": "v_VpnGyWXMmK"
      },
      "source": [
        "# Assignment 3 - Ensemble Methods #"
      ]
    },
    {
      "cell_type": "markdown",
      "metadata": {
        "id": "2dQ9XoGQXMmK"
      },
      "source": [
        "Welcome to your third assignment. This exercise will test your understanding on Ensemble Methods."
      ]
    },
    {
      "cell_type": "code",
      "execution_count": 1,
      "metadata": {
        "id": "JvHYIhS-XMmL"
      },
      "outputs": [],
      "source": [
        "# Always run this cell\n",
        "import numpy as np\n",
        "import pandas as pd\n",
        "from sklearn.tree import DecisionTreeClassifier\n",
        "from sklearn.linear_model import LogisticRegression\n",
        "from sklearn.neighbors import KNeighborsClassifier\n",
        "from sklearn.ensemble import VotingClassifier, RandomForestClassifier, GradientBoostingClassifier, StackingClassifier, AdaBoostClassifier, BaggingClassifier\n",
        "from sklearn.neural_network import MLPClassifier\n",
        "from sklearn.metrics import f1_score, accuracy_score \n",
        "from sklearn import model_selection \n",
        "\n",
        "# USE THE FOLLOWING RANDOM STATE FOR YOUR CODE\n",
        "RANDOM_STATE = 42"
      ]
    },
    {
      "cell_type": "markdown",
      "metadata": {
        "id": "joKwpih2XMmM"
      },
      "source": [
        "## Download the Dataset ##\n",
        "Download the dataset using the following cell or from this [link](https://github.com/sakrifor/public/tree/master/machine_learning_course/EnsembleDataset) and put the files in the same folder as the .ipynb file. \n",
        "In this assignment you are going to work with a dataset originated from the [ImageCLEFmed: The Medical Task 2016](https://www.imageclef.org/2016/medical) and the **Compound figure detection** subtask. The goal of this subtask is to identify whether a figure is a compound figure (one image consists of more than one figure) or not. The train dataset consits of 4197 examples/figures and each figure has 4096 features which were extracted using a deep neural network. The *CLASS* column represents the class of each example where 1 is a compoung figure and 0 is not. \n"
      ]
    },
    {
      "cell_type": "code",
      "execution_count": 2,
      "metadata": {
        "colab": {
          "base_uri": "https://localhost:8080/"
        },
        "id": "NJdwPr0bXMmM",
        "outputId": "70f064fa-7ee5-4985-f59d-9c94c1d1c3f2"
      },
      "outputs": [],
      "source": [
        "import urllib.request\n",
        "url_train = 'https://github.com/sakrifor/public/raw/master/machine_learning_course/EnsembleDataset/train_set.csv'\n",
        "filename_train = 'train_set.csv'\n",
        "urllib.request.urlretrieve(url_train, filename_train)\n",
        "url_test = 'https://github.com/sakrifor/public/raw/master/machine_learning_course/EnsembleDataset/test_set_noclass.csv'\n",
        "filename_test = 'test_set_noclass.csv'\n",
        "urllib.request.urlretrieve(url_test, filename_test)"
      ]
    },
    {
      "cell_type": "code",
      "execution_count": null,
      "metadata": {
        "id": "t0OVtYr7XMmN"
      },
      "outputs": [],
      "source": [
        "# Run this cell to load the data\n",
        "train_set = pd.read_csv(\"train_set.csv\").sample(frac=1).reset_index(drop=True)\n",
        "train_set.head()\n",
        "X = train_set.drop(columns=['CLASS'])\n",
        "y = train_set['CLASS'].values"
      ]
    },
    {
      "cell_type": "markdown",
      "metadata": {
        "id": "ZxOGHSmqXMmO"
      },
      "source": [
        "## 1.0 Testing different ensemble methods ##\n",
        "In this part of the assignment you are asked to create and test different ensemble methods using the train_set.csv dataset. You should use **10-fold cross validation** for your tests and report the average f-measure weighted and balanced accuracy of your models. You can use [cross_validate](https://scikit-learn.org/stable/modules/generated/sklearn.model_selection.cross_validate.html#sklearn.model_selection.cross_validate) and select both metrics to be measured during the evaluation. Otherwise, you can use [KFold](https://scikit-learn.org/stable/modules/generated/sklearn.model_selection.KFold.html#sklearn.model_selection.KFold).\n",
        "\n",
        "### !!! Use n_jobs=-1 where is posibble to use all the cores of a machine for running your tests ###"
      ]
    },
    {
      "cell_type": "markdown",
      "metadata": {
        "id": "Ww_u4OlrXMmO"
      },
      "source": [
        "### 1.1 Voting ###\n",
        "Create a voting classifier which uses three **simple** estimators/classifiers. Test both soft and hard voting and choose the best one. Consider as simple estimators the following:\n",
        "\n",
        "\n",
        "*   Decision Trees\n",
        "*   Linear Models\n",
        "*   Probabilistic Models (Naive Bayes)\n",
        "*   KNN Models  "
      ]
    },
    {
      "cell_type": "code",
      "execution_count": 32,
      "metadata": {
        "id": "RwvPacgkXMmP"
      },
      "outputs": [],
      "source": [
        "# BEGIN CODE HERE\n",
        "\n",
        "# RUNNING TIME : 2min\n",
        "\n",
        "cls1 = DecisionTreeClassifier(criterion='gini', max_depth=12, random_state=RANDOM_STATE) # Classifier #1 \n",
        "cls2 = LogisticRegression(class_weight='balanced', random_state=RANDOM_STATE) # Classifier #2 \n",
        "cls3 = KNeighborsClassifier(n_neighbors=10, n_jobs=-1) # Classifier #3\n",
        "soft_vcls = VotingClassifier(estimators=[\n",
        "                            ('dt', cls1), ('lr', cls2), ('knn', cls3)], voting='soft', n_jobs=-1) # Voting Classifier\n",
        "hard_vcls = VotingClassifier(estimators=[\n",
        "                            ('dt', cls1), ('lr', cls2), ('knn', cls3)], voting='hard', n_jobs=-1, ) # Voting Classifier\n",
        "\n",
        "soft_vcls.fit(X, y)\n",
        "svlcs_predict = model_selection.cross_val_predict(soft_vcls, X, y, cv=10) # Cls pred\n",
        "\n",
        "s_avg_fmeasure = np.mean(f1_score(y, svlcs_predict, average='weighted')) # The average f-measure\n",
        "s_avg_accuracy = np.mean(accuracy_score(y, svlcs_predict)) # The average accuracy\n",
        "\n",
        "hard_vcls.fit(X, y)\n",
        "hvlcs_predict = model_selection.cross_val_predict(hard_vcls, X, y, cv=10) # Cls pred\n",
        "\n",
        "h_avg_fmeasure = np.mean(f1_score(y, hvlcs_predict, average='weighted')) # The average f-measure\n",
        "h_avg_accuracy = np.mean(accuracy_score(y, hvlcs_predict)) # The average accuracy\n",
        "#END CODE HERE"
      ]
    },
    {
      "cell_type": "code",
      "execution_count": 33,
      "metadata": {
        "id": "sQQvClrmXMmQ"
      },
      "outputs": [
        {
          "name": "stdout",
          "output_type": "stream",
          "text": [
            "Classifier:\n",
            "VotingClassifier(estimators=[('dt',\n",
            "                              DecisionTreeClassifier(max_depth=12,\n",
            "                                                     random_state=42)),\n",
            "                             ('lr',\n",
            "                              LogisticRegression(class_weight='balanced',\n",
            "                                                 random_state=42)),\n",
            "                             ('knn',\n",
            "                              KNeighborsClassifier(n_jobs=-1, n_neighbors=10))],\n",
            "                 n_jobs=-1, voting='soft')\n",
            "F1 Weighted-Score: 0.8268 & Balanced Accuracy: 0.8275\n"
          ]
        }
      ],
      "source": [
        "print(\"Classifier:\")\n",
        "print(soft_vcls)\n",
        "print(\"F1 Weighted-Score: {} & Balanced Accuracy: {}\".format(round(s_avg_fmeasure,4), round(s_avg_accuracy,4)))"
      ]
    },
    {
      "cell_type": "markdown",
      "metadata": {
        "id": "k-iJK9pFaDka"
      },
      "source": [
        "You should achive above 82% (Soft Voting Classifier)"
      ]
    },
    {
      "cell_type": "code",
      "execution_count": 34,
      "metadata": {
        "id": "XRNkVAvEYVbn"
      },
      "outputs": [
        {
          "name": "stdout",
          "output_type": "stream",
          "text": [
            "Classifier:\n",
            "VotingClassifier(estimators=[('dt',\n",
            "                              DecisionTreeClassifier(max_depth=12,\n",
            "                                                     random_state=42)),\n",
            "                             ('lr',\n",
            "                              LogisticRegression(class_weight='balanced',\n",
            "                                                 random_state=42)),\n",
            "                             ('knn',\n",
            "                              KNeighborsClassifier(n_jobs=-1, n_neighbors=10))],\n",
            "                 n_jobs=-1)\n",
            "F1 Weighted-Score: 0.8293 & Balanced Accuracy: 0.8294\n"
          ]
        }
      ],
      "source": [
        "print(\"Classifier:\")\n",
        "print(hard_vcls)\n",
        "print(\"F1 Weighted-Score: {} & Balanced Accuracy: {}\".format(round(h_avg_fmeasure,4), round(h_avg_accuracy,4)))"
      ]
    },
    {
      "cell_type": "markdown",
      "metadata": {
        "id": "V6M0CZO6aEHi"
      },
      "source": [
        "You should achieve above 80% in both! (Hard Voting Classifier)"
      ]
    },
    {
      "cell_type": "markdown",
      "metadata": {
        "id": "xVPuIxwFXMmR"
      },
      "source": [
        "### 1.2 Stacking ###\n",
        "Create a stacking classifier which uses two more complex estimators. Try different simple classifiers (like the ones mentioned before) for the combination of the initial estimators. Report your results in the following cell.\n",
        "\n",
        "Consider as complex estimators the following:\n",
        "\n",
        "*   Random Forest\n",
        "*   SVM\n",
        "*   Gradient Boosting\n",
        "*   MLP\n",
        "\n",
        "\n"
      ]
    },
    {
      "cell_type": "code",
      "execution_count": 7,
      "metadata": {
        "id": "HX6T1qrFXMmS"
      },
      "outputs": [],
      "source": [
        "# BEGIN CODE HERE\n",
        "\n",
        "cls1 = GradientBoostingClassifier(random_state=RANDOM_STATE) # Classifier #1 \n",
        "cls2 = RandomForestClassifier(n_estimators=150, random_state=RANDOM_STATE, n_jobs=-1) # Classifier #2 \n",
        "cls3 = MLPClassifier(random_state=RANDOM_STATE) #cls3 = DecisionTreeClassifier(max_depth=3, random_state=RANDOM_STATE) # Classifier #3 (Optional) max_d = 5\n",
        "scls = StackingClassifier(estimators=[\n",
        "                            ('gb', cls1), ('rf', cls2), ('mlp', cls3)], final_estimator=LogisticRegression(), n_jobs=-1) # Stacking Classifier\n",
        "scls.fit(X, y)\n",
        "\n",
        "scoring = {'f_measure' : 'f1_weighted', 'acc' : 'balanced_accuracy'}\n",
        "scls_predict = model_selection.cross_validate(scls, X, y, cv=10, scoring=scoring)\n",
        "\n",
        "avg_fmeasure = np.mean(scls_predict['test_f_measure']) # The average f-measure\n",
        "avg_accuracy = np.mean(scls_predict['test_acc']) # The average accuracy\n",
        "#END CODE HERE"
      ]
    },
    {
      "cell_type": "code",
      "execution_count": 8,
      "metadata": {
        "id": "-JLRzkQ1XMmT"
      },
      "outputs": [
        {
          "name": "stdout",
          "output_type": "stream",
          "text": [
            "Classifier:\n",
            "StackingClassifier(estimators=[('gb',\n",
            "                                GradientBoostingClassifier(random_state=42)),\n",
            "                               ('rf',\n",
            "                                RandomForestClassifier(n_estimators=150,\n",
            "                                                       n_jobs=-1,\n",
            "                                                       random_state=42)),\n",
            "                               ('mlp', MLPClassifier(random_state=42))],\n",
            "                   final_estimator=LogisticRegression(), n_jobs=-1)\n",
            "F1 Weighted Score: 0.8617 & Balanced Accuracy: 0.855\n"
          ]
        }
      ],
      "source": [
        "print(\"Classifier:\")\n",
        "print(scls)\n",
        "print(\"F1 Weighted Score: {} & Balanced Accuracy: {}\".format(round(avg_fmeasure,4), round(avg_accuracy,4)))"
      ]
    },
    {
      "cell_type": "markdown",
      "metadata": {
        "id": "zcgOx-HPvBI-"
      },
      "source": [
        "You should achieve above 85% in both"
      ]
    },
    {
      "cell_type": "markdown",
      "metadata": {
        "id": "O-nqW51xXMmU"
      },
      "source": [
        "## 2.0 Randomization ##"
      ]
    },
    {
      "cell_type": "markdown",
      "metadata": {
        "id": "KPG8MdFLXMmV"
      },
      "source": [
        "**2.1** You are asked to create three ensembles of decision trees where each one uses a different method for producing homogeneous ensembles. Compare them with a simple decision tree classifier and report your results in the dictionaries (dict) below using as key the given name of your classifier and as value the f1_weighted/balanced_accuracy score. The dictionaries should contain four different elements.  "
      ]
    },
    {
      "cell_type": "code",
      "execution_count": 5,
      "metadata": {
        "id": "PmkaP-DjXMmV"
      },
      "outputs": [],
      "source": [
        "# BEGIN CODE HERE\n",
        "# TODO fix these\n",
        "tree = DecisionTreeClassifier()\n",
        "\n",
        "ens1 = GradientBoostingClassifier(random_state=RANDOM_STATE)\n",
        "ens2 = BaggingClassifier(random_state=RANDOM_STATE)\n",
        "ens3 = AdaBoostClassifier(random_state=RANDOM_STATE)\n",
        "\n",
        "ens1.fit(X, y)\n",
        "ens1_pred = model_selection.cross_val_predict(ens1, X, y, cv=10) #ens1.predict(X)\n",
        "\n",
        "ens2.fit(X, y)\n",
        "ens2_pred = model_selection.cross_val_predict(ens2, X, y, cv=10) #ens2.predict(X)\n",
        "\n",
        "ens3.fit(X, y)\n",
        "ens3_pred = model_selection.cross_val_predict(ens3, X, y, cv=10) #ens3.predict(X)\n",
        "\n",
        "tree.fit(X, y)\n",
        "tree_pred = model_selection.cross_val_predict(tree, X, y, cv=10) #tree.predict(X)\n",
        "\n",
        "f_measures = dict([\n",
        "    (\" Simple Desicion\", f1_score(tree_pred, y, average='weighted')),\n",
        "    (\" Enseble with Gradient Boosting Classifier\", f1_score(ens1_pred, y, average='weighted')),\n",
        "    (\" Ensemble with Bagging Classifier\", f1_score(ens2_pred, y, average='weighted')),\n",
        "    (\" Enseble with Ada Boosting\", f1_score(ens3_pred, y, average='weighted'))\n",
        "])\n",
        "accuracies = dict([\n",
        "    (\" Simple Desicion\", accuracy_score(tree_pred, y)),\n",
        "    (\" Enseble with Gradient Boosting Classifier\", accuracy_score(ens1_pred, y)),\n",
        "    (\" Ensemble with Bagging Classifier\", accuracy_score(ens2_pred, y)),\n",
        "    (\" Enseble with Ada Boosting Classifier\", accuracy_score(ens3_pred, y))\n",
        "])\n",
        "# Example f_measures = {'Simple Decision': 0.8551, 'Ensemble with random ...': 0.92, ...}\n",
        "\n",
        "#END CODE HERE"
      ]
    },
    {
      "cell_type": "code",
      "execution_count": 6,
      "metadata": {
        "id": "IUqhDUuCXMmW"
      },
      "outputs": [
        {
          "name": "stdout",
          "output_type": "stream",
          "text": [
            "RandomForestClassifier(criterion='entropy', random_state=42)\n",
            "RandomForestClassifier(n_estimators=110, random_state=42)\n",
            "RandomForestClassifier(n_estimators=150, random_state=42)\n",
            "DecisionTreeClassifier()\n",
            "Classifier: Simple Desicion -  F1 Weighted:0.699\n",
            "Classifier: Enseble with Gradient Boosting Classifier -  F1 Weighted:0.814\n",
            "Classifier: Ensemble with Bagging Classifier -  F1 Weighted:0.8127\n",
            "Classifier: Enseble with Ada Boosting -  F1 Weighted:0.8135\n",
            "Classifier: Simple Desicion -  BalancedAccuracy:0.699\n",
            "Classifier: Enseble with Gradient Boosting Classifier -  BalancedAccuracy:0.8103\n",
            "Classifier: Ensemble with Bagging Classifier -  BalancedAccuracy:0.8093\n",
            "Classifier: Enseble with Ada Boosting Classifier -  BalancedAccuracy:0.8101\n"
          ]
        }
      ],
      "source": [
        "print(ens1)\n",
        "print(ens2)\n",
        "print(ens3)\n",
        "print(tree)\n",
        "for name,score in f_measures.items():\n",
        "    print(\"Classifier:{} -  F1 Weighted:{}\".format(name,round(score,4)))\n",
        "for name,score in accuracies.items():\n",
        "    print(\"Classifier:{} -  BalancedAccuracy:{}\".format(name,round(score,4)))"
      ]
    },
    {
      "cell_type": "markdown",
      "metadata": {
        "id": "UqdXTE_2XMmX"
      },
      "source": [
        "**2.2** Describe your classifiers and your results."
      ]
    },
    {
      "cell_type": "markdown",
      "metadata": {
        "id": "rU9POFftXMmX"
      },
      "source": [
        "Έχω επιλέξει τη χρήση ενός απλού Desicion Tree Classifier, και οι υπόλοιποι ensembles είναι οι Gradient Boosting, Bagging και Ada Boosting Classifier. Δεν χρειάστηκε να πειράξω κάποια παράμετρο γιατί τα σκορς τους ήταν ΟΚ εξ αρχής. Μέσο όρο οι ensembles είναι πολύ κοντά στο 80% και στις 2 μετρικές ενώ ο απλός DTC έχει εμφανώς χαμηλότερα σκορς από όλους. Επίσης οι προβλέψεις τους προέκυψαν από cross validation."
      ]
    },
    {
      "cell_type": "markdown",
      "metadata": {
        "id": "lkJeuV1FXMmX"
      },
      "source": [
        "**2.3** Increasing the number of estimators in a bagging classifier can drastically increase the training time of a classifier. Is there any solution to this problem? Can the same solution be applied to boosting classifiers?"
      ]
    },
    {
      "cell_type": "markdown",
      "metadata": {
        "id": "ApNEPcWEXMmY"
      },
      "source": [
        "\n",
        "Στους bagging classifiers τα μοντέλα του συνόλου μπορούν τόσο να εκπαιδευτούν όσο και να χρησιμοποιηθούν για προβλέψεις ανεξάρτητα το ένα από το άλλο. Επομένως, θα μπορούσε να γίνει χρήση πολλαπλών υπολογιστικών πόρων για την επιτάχυνση των διαδικασιών εκπαίδευσης. Δεδομένου ότι τα μοντέλα των boosting classifiers εκπαιδεύονται με τέτοιο τρόπο που απαιτεί να έχουν τα αποτελέσματα του τελευταίου που εκπαιδεύτηκε, μία λύση που αφορά παραλληλισμό, δεν θα μπορέσει να δουλέψει σε μία γραμμική τεχνική εκπαίδευσης. Επομένως η απάντηση είναι όχι."
      ]
    },
    {
      "cell_type": "markdown",
      "metadata": {
        "id": "XgvsCbUGXMmY"
      },
      "source": [
        "## 3.0 Creating the best classifier ##"
      ]
    },
    {
      "cell_type": "markdown",
      "metadata": {
        "id": "Q6daX2mRXMmZ"
      },
      "source": [
        "**3.1** In this part of the assignment you are asked to train the best possible ensemble! Describe the process you followed to achieve this result. How did you choose your classifier and your parameters and why. Report the f-measure (weighted) & balanced accuracy (10-fold cross validation) of your final classifier and results of classifiers you tried in the cell following the code. Can you achieve a balanced accuracy over 83-84%?"
      ]
    },
    {
      "cell_type": "code",
      "execution_count": 3,
      "metadata": {
        "id": "00xAQ0HfXMmZ"
      },
      "outputs": [
        {
          "name": "stdout",
          "output_type": "stream",
          "text": [
            "0.859543963501341\n",
            "0.8526601786849513\n"
          ]
        }
      ],
      "source": [
        "# BEGIN CODE HERE\n",
        "\n",
        "'''\n",
        "from sklearn.model_selection import KFold, cross_val_score\n",
        "def train_model(clf, x_train, y_train, n_folds):\n",
        "    cv = KFold(n_splits = n_folds, shuffle=True, random_state=RANDOM_STATE)\n",
        "    scores = cross_val_score(clf, x_train, y_train, scoring='balanced_accuracy', cv=cv, n_jobs=-1)\n",
        "    return np.mean(scores)\n",
        "\n",
        "rf_params = [\n",
        "    {\n",
        "    'n_estimators': [100, 150, 200],\n",
        "    'max_depth': [2, 3]\n",
        "    }\n",
        "]\n",
        "\n",
        "\n",
        "clf1 = RandomForestClassifier(criterion='gini', n_estimators=150, n_jobs=-1)\n",
        "rfc_score = train_model(clf1, X, y, 10)\n",
        "\n",
        "grid_search = GridSearchCV(clf1, rf_params, cv=10, scoring='balanced_accuracy')\n",
        "\n",
        "grid_search.fit(X, y)\n",
        "y_predict =  grid_search.predict(X)\n",
        "\n",
        "print(\"Best params:\")\n",
        "print(grid_search.best_params_)\n",
        "'''\n",
        "cls1 = RandomForestClassifier(criterion='gini', n_jobs=-1, random_state=RANDOM_STATE)\n",
        "cls2 = AdaBoostClassifier(random_state=RANDOM_STATE)\n",
        "cls3 = MLPClassifier(random_state=RANDOM_STATE)\n",
        "\n",
        "best_cls = StackingClassifier(estimators=[\n",
        "                            ('rf', cls1), ('ab', cls2), ('mlp', cls3)], final_estimator=LogisticRegression(random_state=RANDOM_STATE), n_jobs=-1)\n",
        "best_cls.fit(X, y)\n",
        "\n",
        "scoring = {'f_measure' : 'f1_weighted', 'acc' : 'balanced_accuracy'}\n",
        "prediction = model_selection.cross_validate(scls, X, y, cv=10, scoring=scoring)\n",
        "\n",
        "best_fmeasure = np.mean(scls_predict['test_f_measure'])\n",
        "best_accuracy = np.mean(scls_predict['test_acc'])\n",
        "#END CODE HERE"
      ]
    },
    {
      "cell_type": "code",
      "execution_count": 4,
      "metadata": {
        "colab": {
          "base_uri": "https://localhost:8080/"
        },
        "id": "FbLB09agXMma",
        "outputId": "be9abfc9-aa0d-4e22-9f07-46926fd1d987"
      },
      "outputs": [
        {
          "name": "stdout",
          "output_type": "stream",
          "text": [
            "Classifier:\n",
            "F1 Weighted-Score: & Balanced Accuracy:\n"
          ]
        }
      ],
      "source": [
        "# print(grid_search.best_score_)\n",
        "print(\"Classifier:\")\n",
        "#print(best_cls)\n",
        "print(\"F1 Weighted-Score:{} & Balanced Accuracy:{}\".format(best_fmeasure, best_accuracy))"
      ]
    },
    {
      "cell_type": "markdown",
      "metadata": {
        "id": "vnos1uqzXMma"
      },
      "source": [
        "**3.2** Describe the process you followed to achieve this result. How did you choose your classifier and your parameters and why. Report the f-measure & accuracy (10-fold cross validation) of your final classifier and results of classifiers you tried in the cell following the code."
      ]
    },
    {
      "cell_type": "markdown",
      "metadata": {
        "id": "o5dAfbTfXMmb"
      },
      "source": [
        "Από τα παραπάνω ερωτήματα, ξεχώρισε η χρήση του MLP οπότε αποφάσισα να τον χρησιμοποιήσω, αναγνωρίζω βέβεαι πως η επιτυχία του οφείλεται στο ότι ειναι νευρωνικό μοντέλο. Ήθελα να υπάρχει μία τυχαιότητα και για αυτό επέλεξα τη χρήση του Random Forest, αλλά και να βελτιωθεί το μοντέλο που με οδήγησε στη χρήση του AdaBoost. Θεώρησα ότι ο συνδιασμός τους θα έχει καλά αποτελέσματα και όντως έχει. O final estimator προτίμησα να μείνει κάτι απλό λόγω χρόνου κυρίως. Με τη πρώτη προσπάθεια, με μία μικρή αύξηση στους estimators του AdaBoost πέτυχα balanced accuracy 83.8%. Στη δοκιμή να παραμείνουν στους default (50) το αποτέλεσμα ήταν καλύτερο και έφτασε balanced accuracy 85.2%. Θα χρησιμοποιηθεί το ίδιο μοντέλο και στο επόμενο κομμάτι της εργασίας, δεδομένου του καλού σκορ του και λόγω χρόνου εκτέλεσης. Δυστυχώς δεν υπάρχει η δυνατότητα για κάποιο grid search."
      ]
    },
    {
      "cell_type": "markdown",
      "metadata": {
        "id": "fQEFCmbcXMmb"
      },
      "source": [
        "**3.3** Create a classifier that is going to be used in production - in a live system. Use the *test_set_noclass.csv* to make predictions. Store the predictions in a list.  "
      ]
    },
    {
      "cell_type": "code",
      "execution_count": 5,
      "metadata": {
        "id": "XQPgm_ubXMmc"
      },
      "outputs": [
        {
          "ename": "AttributeError",
          "evalue": "'str' object has no attribute 'predict'",
          "output_type": "error",
          "traceback": [
            "\u001b[1;31m---------------------------------------------------------------------------\u001b[0m",
            "\u001b[1;31mAttributeError\u001b[0m                            Traceback (most recent call last)",
            "\u001b[1;32m<ipython-input-5-81c2d5af2877>\u001b[0m in \u001b[0;36m<module>\u001b[1;34m\u001b[0m\n\u001b[0;32m      3\u001b[0m \u001b[1;31m#END CODE HERE\u001b[0m\u001b[1;33m\u001b[0m\u001b[1;33m\u001b[0m\u001b[1;33m\u001b[0m\u001b[0m\n\u001b[0;32m      4\u001b[0m \u001b[0mtest_set\u001b[0m \u001b[1;33m=\u001b[0m \u001b[0mpd\u001b[0m\u001b[1;33m.\u001b[0m\u001b[0mread_csv\u001b[0m\u001b[1;33m(\u001b[0m\u001b[1;34m\"test_set_noclass.csv\"\u001b[0m\u001b[1;33m)\u001b[0m\u001b[1;33m\u001b[0m\u001b[1;33m\u001b[0m\u001b[0m\n\u001b[1;32m----> 5\u001b[1;33m \u001b[0mpredictions\u001b[0m \u001b[1;33m=\u001b[0m \u001b[0mcls\u001b[0m\u001b[1;33m.\u001b[0m\u001b[0mpredict\u001b[0m\u001b[1;33m(\u001b[0m\u001b[0mtest_set\u001b[0m\u001b[1;33m)\u001b[0m\u001b[1;33m\u001b[0m\u001b[1;33m\u001b[0m\u001b[0m\n\u001b[0m",
            "\u001b[1;31mAttributeError\u001b[0m: 'str' object has no attribute 'predict'"
          ]
        }
      ],
      "source": [
        "# BEGIN CODE HERE\n",
        "cls = best_cls\n",
        "#END CODE HERE\n",
        "test_set = pd.read_csv(\"test_set_noclass.csv\")\n",
        "predictions = cls.predict(test_set)"
      ]
    },
    {
      "cell_type": "markdown",
      "metadata": {
        "id": "lnAp-d2DXMmf"
      },
      "source": [
        "LEAVE HERE ANY COMMENTS ABOUT YOUR CLASSIFIER"
      ]
    },
    {
      "cell_type": "markdown",
      "metadata": {
        "id": "Neagvu0TXMmg"
      },
      "source": [
        "#### This following cell will not be executed. The test_set.csv with the classes will be made available after the deadline and this cell is for testing purposes!!! Do not modify it! ###"
      ]
    },
    {
      "cell_type": "code",
      "execution_count": null,
      "metadata": {
        "id": "k7K7iI7BXMmg"
      },
      "outputs": [],
      "source": [
        "if False:\n",
        "  from sklearn.metrics import f1_score, balanced_accuracy_score\n",
        "  final_test_set = pd.read_csv('test_set.csv')\n",
        "  ground_truth = final_test_set['CLASS']\n",
        "  print(\"Balanced Accuracy: {}\".format(balanced_accuracy_score(predictions, ground_truth)))\n",
        "  print(\"F1 Weighted-Score: {}\".format(f1_score(predictions, ground_truth, average='weighted')))"
      ]
    },
    {
      "cell_type": "markdown",
      "metadata": {
        "id": "YJH-9KdOzW7z"
      },
      "source": [
        "Both should aim above 85%!"
      ]
    }
  ],
  "metadata": {
    "accelerator": "GPU",
    "colab": {
      "collapsed_sections": [],
      "name": "EnsembleMethods.ipynb",
      "provenance": []
    },
    "interpreter": {
      "hash": "31beaed51a27c00bbdcbab7289adcbc92386512632e9a0f3b490bb0556194767"
    },
    "kernelspec": {
      "display_name": "Python 3.8.5 ('base')",
      "language": "python",
      "name": "python3"
    },
    "language_info": {
      "codemirror_mode": {
        "name": "ipython",
        "version": 3
      },
      "file_extension": ".py",
      "mimetype": "text/x-python",
      "name": "python",
      "nbconvert_exporter": "python",
      "pygments_lexer": "ipython3",
      "version": "3.8.5"
    }
  },
  "nbformat": 4,
  "nbformat_minor": 0
}
